{
 "cells": [
  {
   "cell_type": "markdown",
   "metadata": {},
   "source": [
    "# Diabetes 130-US hospitals for years 1999-2008 Data Set"
   ]
  },
  {
   "cell_type": "markdown",
   "metadata": {},
   "source": [
    "**Abstract:** This case has been prepared to analyze factors related to readmission as well as other outcomes pertaining to patients with diabetes."
   ]
  },
  {
   "cell_type": "markdown",
   "metadata": {},
   "source": [
    "**Each phase of the process:**\n",
    "1. [Business understanding](#Businessunderstanding)\n",
    "    1. [Assess the Current Situation](#Assessthecurrentsituation)\n",
    "        1. [Inventory of resources](#Inventory)\n",
    "        2. [Requirements, assumptions and constraints](#Requirements)\n",
    "        3. [Risks and contingencies](#Risks)\n",
    "        4. [Terminology](#Terminology)\n",
    "        5. [Costs and benefits](#CostBenefit)\n",
    "    2. [What are the Desired Outputs](#Desiredoutputs)\n",
    "    3. [What Questions Are We Trying to Answer?](#QA)\n",
    "2. [Data Understanding](#Dataunderstanding)\n",
    "    1. [Initial Data Connetion](#Datareport)\n",
    "    2. [Describe Data](#Describedata)\n",
    "    4. [Verify Data Quality](#Verifydataquality)\n",
    "        1. [Missing columns](#MissingData) \n",
    "        2. [Missing rows](#MissingData) \n",
    "        3. [Outliers](#Outliers) \n",
    "3. [Data Preparation](#Datapreparation)\n",
    "    1. [Altering Datatypes](#AlteringDatatypes)\n",
    "    2. [Saving data modeled data](#DealingZeros)\n",
    "    3. [Drop Unnecessary Columns](#DropCols)\n",
    "    4. [Outliers treatment](#DropCols)\n",
    "    5. [Dealing With NaNs](#DealingZeros)\n",
    "    6. [Saving data transformed data](#DealingZeros)\n",
    "4. [Features Engineering](#Datapreparation)\n",
    "     1. [New Features](#Datapreparation)\n",
    "     2. [Recodings](#DropCols)\n",
    "     3. [Dummies creation](#DropCols)\n",
    "     4. [Target creation](#DealingZeros)\n",
    "     5. [Clean new features col name](#DealingZeros)\n",
    "     6. [Saving data feature engineered data](#DealingZeros)\n",
    "5. [Modelling](#Modelling)\n",
    "    1. [Build Model](#BuildModel)\n",
    "    2. [Build tuning](#BuildModel)\n",
    "    3. [Save Model](#BuildModel)\n",
    "    4. [Model Insights](#AssessModel)\n",
    "    5. [PCA Insights](#AssessModel)\n",
    "    .\n",
    "6. [Evaluation](#Evaluation)\n",
    "7. [Deployment](#Deployment)"
   ]
  },
  {
   "cell_type": "markdown",
   "metadata": {},
   "source": [
    "# 1. Stage One - Determine Business Objectives and Assess the Situation  <a class=\"anchor\" id=\"Businessunderstanding\"></a>"
   ]
  },
  {
   "cell_type": "markdown",
   "metadata": {},
   "source": [
    "## 1.1 Assess the Current Situation<a class=\"anchor\" id=\"Assessthecurrentsituation\"></a>"
   ]
  },
  {
   "cell_type": "markdown",
   "metadata": {},
   "source": [
    "There are not insights about the diabetes patients hospital readmissions. "
   ]
  },
  {
   "cell_type": "markdown",
   "metadata": {},
   "source": [
    "### 1.1.1. Inventory of resources <a class=\"anchor\" id=\"Inventory\"></a>\n",
    "List the resources available to the project including:\n",
    "- Personnel: 1 \"full stack\" DS Coordinator\n",
    "- Data: Diabetes 130-US hospitals for years 1999-2008 https://archive.ics.uci.edu/ml/datasets/Diabetes+130-US+hospitals+for+years+1999-2008#\n",
    "- Computing resources: Intel i7 8-core @ 2.8Ghz, GPU GTX 1060 6GB GDDR5, Ram 16gb. \n",
    "- Software: Linux, Python 3.7, Visual Studio, Notebook Jupyter\n"
   ]
  },
  {
   "cell_type": "markdown",
   "metadata": {},
   "source": [
    "### 1.1.2. Requirements, assumptions and constraints - <a class=\"anchor\" id=\"Requirements\"></a> \n",
    "Predict three categories of readmission pacients:\n",
    "* Less than 30: if the patient was readmitted in less than 30 days  \n",
    "* More than 30: if the patient was readmitted in more than 30 days  \n",
    "* No record: for no record of readmission  \n",
    "\n",
    "To the MVP we simplify the target to:  \n",
    "* 1: if the patient was readmitted in less than 30 and more than 30  \n",
    "* 0: for no record of readmission  "
   ]
  },
  {
   "cell_type": "markdown",
   "metadata": {},
   "source": [
    "### 1.1.3.Risks and contingencies <a class=\"anchor\" id=\"Risks\"></a>\n",
    "- Changes in current pacients behaviours in constrast to given dataset  \n",
    "I suggest to update the data. As this a very high impact prediction for life quality of the pacients, we should not experiment with pacient in online prediction with the model train with more than 10 years old dataset. The cost of false negative could be very high."
   ]
  },
  {
   "cell_type": "markdown",
   "metadata": {},
   "source": [
    "### 1.1.4.Terminology <a class=\"anchor\" id=\"Terminology\"></a>\n",
    "- No apply by the moment"
   ]
  },
  {
   "cell_type": "markdown",
   "metadata": {},
   "source": [
    "### 1.1.5.Costs and benefits  <a class=\"anchor\" id=\"CostBenefit\"></a>\n",
    "- It has been doing by PM team."
   ]
  },
  {
   "cell_type": "markdown",
   "metadata": {},
   "source": [
    " ## 1.2 What are the desired outputs of the project? <a class=\"anchor\" id=\"Desiredoutputs\"></a>"
   ]
  },
  {
   "cell_type": "markdown",
   "metadata": {},
   "source": [
    "\n",
    "**Business success criteria**\n",
    "- Reduce cost of diabetes readmissions by 10% during the next 12 month after prediction get online after pacient trial phase. \n",
    "\n",
    "**Data mining success criteria**\n",
    "- AUC-ROC above 50%\n",
    "- Get the MVP in one day\n",
    "\n",
    "\n",
    "**Produce project plan**\n",
    "- https://github.com/wiflore/Diabetes-ML-Case/projects/1\n"
   ]
  },
  {
   "cell_type": "markdown",
   "metadata": {},
   "source": [
    " ## 1.3 What Questions Are We Trying To Answer? <a class=\"anchor\" id=\"QA\"></a>"
   ]
  },
  {
   "cell_type": "markdown",
   "metadata": {},
   "source": [
    "- How could we know which pacient will comeback in the next 30 days due to a potental bad diabetes treatment?"
   ]
  },
  {
   "cell_type": "markdown",
   "metadata": {},
   "source": [
    "# 2.  Data Understanding <a class=\"anchor\" id=\"Dataunderstanding\"></a>"
   ]
  },
  {
   "cell_type": "markdown",
   "metadata": {},
   "source": [
    "## 2.1 Initial Data Connetion <a class=\"anchor\" id=\"Datareport\"></a>"
   ]
  },
  {
   "cell_type": "code",
   "execution_count": 1,
   "metadata": {},
   "outputs": [],
   "source": [
    "# Import Libraries Required\n",
    "import pandas as pd\n",
    "import matplotlib.pyplot as plt\n",
    "%matplotlib inline\n",
    "import numpy as np\n",
    "import seaborn as sns\n",
    "import gc\n",
    "from src.utilities import helpers\n",
    "import os\n",
    "import pathlib\n",
    "import re\n",
    "\n",
    "from sklearn.naive_bayes import GaussianNB\n",
    "from sklearn.tree import DecisionTreeClassifier\n",
    "from sklearn.ensemble import BaggingClassifier\n",
    "from sklearn.ensemble import GradientBoostingClassifier\n",
    "from sklearn.neighbors import KNeighborsClassifier\n",
    "from sklearn.linear_model import SGDClassifier\n",
    "from sklearn.svm import SVC\n",
    "from sklearn.linear_model import LogisticRegression\n",
    "\n",
    "from sklearn.ensemble import AdaBoostClassifier\n",
    "from sklearn.ensemble import RandomForestClassifier\n",
    "from sklearn.tree import DecisionTreeClassifier\n",
    "from time import time\n",
    "# Import supplementary visualization code visuals.py\n",
    "from src.utilities import visuals as vs\n",
    "\n",
    "# Pretty display for notebooks\n",
    "%matplotlib inline\n"
   ]
  },
  {
   "cell_type": "code",
   "execution_count": 164,
   "metadata": {},
   "outputs": [],
   "source": [
    "BASE_PATH = os.path.dirname(os.path.abspath(\"\")) + os.sep  #change \"\" to __file__ in .py\n",
    "VERSION = 2"
   ]
  },
  {
   "cell_type": "code",
   "execution_count": 110,
   "metadata": {},
   "outputs": [],
   "source": [
    "#Data source: \n",
    "#Source Query location: \n",
    "path =  BASE_PATH + 'data/raw/diabetic_data.csv'\n",
    "# reads the data from the file - denotes as CSV, it has no header, sets column headers\n",
    "df =  pd.read_csv(path, sep=',') "
   ]
  },
  {
   "cell_type": "markdown",
   "metadata": {},
   "source": [
    "## 2.2 Describe Data <a class=\"anchor\" id=\"Describedata\"></a>"
   ]
  },
  {
   "cell_type": "code",
   "execution_count": 111,
   "metadata": {},
   "outputs": [
    {
     "data": {
      "text/plain": [
       "(101766, 50)"
      ]
     },
     "execution_count": 111,
     "metadata": {},
     "output_type": "execute_result"
    }
   ],
   "source": [
    "df.shape"
   ]
  },
  {
   "cell_type": "code",
   "execution_count": 112,
   "metadata": {},
   "outputs": [
    {
     "data": {
      "text/plain": [
       "encounter_id                 int64\n",
       "patient_nbr                  int64\n",
       "race                        object\n",
       "gender                      object\n",
       "age                         object\n",
       "weight                      object\n",
       "admission_type_id            int64\n",
       "discharge_disposition_id     int64\n",
       "admission_source_id          int64\n",
       "time_in_hospital             int64\n",
       "payer_code                  object\n",
       "medical_specialty           object\n",
       "num_lab_procedures           int64\n",
       "num_procedures               int64\n",
       "num_medications              int64\n",
       "number_outpatient            int64\n",
       "number_emergency             int64\n",
       "number_inpatient             int64\n",
       "diag_1                      object\n",
       "diag_2                      object\n",
       "diag_3                      object\n",
       "number_diagnoses             int64\n",
       "max_glu_serum               object\n",
       "A1Cresult                   object\n",
       "metformin                   object\n",
       "repaglinide                 object\n",
       "nateglinide                 object\n",
       "chlorpropamide              object\n",
       "glimepiride                 object\n",
       "acetohexamide               object\n",
       "glipizide                   object\n",
       "glyburide                   object\n",
       "tolbutamide                 object\n",
       "pioglitazone                object\n",
       "rosiglitazone               object\n",
       "acarbose                    object\n",
       "miglitol                    object\n",
       "troglitazone                object\n",
       "tolazamide                  object\n",
       "examide                     object\n",
       "citoglipton                 object\n",
       "insulin                     object\n",
       "glyburide-metformin         object\n",
       "glipizide-metformin         object\n",
       "glimepiride-pioglitazone    object\n",
       "metformin-rosiglitazone     object\n",
       "metformin-pioglitazone      object\n",
       "change                      object\n",
       "diabetesMed                 object\n",
       "readmitted                  object\n",
       "dtype: object"
      ]
     },
     "execution_count": 112,
     "metadata": {},
     "output_type": "execute_result"
    }
   ],
   "source": [
    "df.dtypes"
   ]
  },
  {
   "cell_type": "code",
   "execution_count": 113,
   "metadata": {},
   "outputs": [
    {
     "data": {
      "text/html": [
       "<div>\n",
       "<style scoped>\n",
       "    .dataframe tbody tr th:only-of-type {\n",
       "        vertical-align: middle;\n",
       "    }\n",
       "\n",
       "    .dataframe tbody tr th {\n",
       "        vertical-align: top;\n",
       "    }\n",
       "\n",
       "    .dataframe thead th {\n",
       "        text-align: right;\n",
       "    }\n",
       "</style>\n",
       "<table border=\"1\" class=\"dataframe\">\n",
       "  <thead>\n",
       "    <tr style=\"text-align: right;\">\n",
       "      <th></th>\n",
       "      <th>encounter_id</th>\n",
       "      <th>patient_nbr</th>\n",
       "      <th>race</th>\n",
       "      <th>gender</th>\n",
       "      <th>age</th>\n",
       "      <th>weight</th>\n",
       "      <th>admission_type_id</th>\n",
       "      <th>discharge_disposition_id</th>\n",
       "      <th>admission_source_id</th>\n",
       "      <th>time_in_hospital</th>\n",
       "      <th>...</th>\n",
       "      <th>citoglipton</th>\n",
       "      <th>insulin</th>\n",
       "      <th>glyburide-metformin</th>\n",
       "      <th>glipizide-metformin</th>\n",
       "      <th>glimepiride-pioglitazone</th>\n",
       "      <th>metformin-rosiglitazone</th>\n",
       "      <th>metformin-pioglitazone</th>\n",
       "      <th>change</th>\n",
       "      <th>diabetesMed</th>\n",
       "      <th>readmitted</th>\n",
       "    </tr>\n",
       "  </thead>\n",
       "  <tbody>\n",
       "    <tr>\n",
       "      <th>0</th>\n",
       "      <td>2278392</td>\n",
       "      <td>8222157</td>\n",
       "      <td>Caucasian</td>\n",
       "      <td>Female</td>\n",
       "      <td>[0-10)</td>\n",
       "      <td>?</td>\n",
       "      <td>6</td>\n",
       "      <td>25</td>\n",
       "      <td>1</td>\n",
       "      <td>1</td>\n",
       "      <td>...</td>\n",
       "      <td>No</td>\n",
       "      <td>No</td>\n",
       "      <td>No</td>\n",
       "      <td>No</td>\n",
       "      <td>No</td>\n",
       "      <td>No</td>\n",
       "      <td>No</td>\n",
       "      <td>No</td>\n",
       "      <td>No</td>\n",
       "      <td>NO</td>\n",
       "    </tr>\n",
       "    <tr>\n",
       "      <th>1</th>\n",
       "      <td>149190</td>\n",
       "      <td>55629189</td>\n",
       "      <td>Caucasian</td>\n",
       "      <td>Female</td>\n",
       "      <td>[10-20)</td>\n",
       "      <td>?</td>\n",
       "      <td>1</td>\n",
       "      <td>1</td>\n",
       "      <td>7</td>\n",
       "      <td>3</td>\n",
       "      <td>...</td>\n",
       "      <td>No</td>\n",
       "      <td>Up</td>\n",
       "      <td>No</td>\n",
       "      <td>No</td>\n",
       "      <td>No</td>\n",
       "      <td>No</td>\n",
       "      <td>No</td>\n",
       "      <td>Ch</td>\n",
       "      <td>Yes</td>\n",
       "      <td>&gt;30</td>\n",
       "    </tr>\n",
       "    <tr>\n",
       "      <th>2</th>\n",
       "      <td>64410</td>\n",
       "      <td>86047875</td>\n",
       "      <td>AfricanAmerican</td>\n",
       "      <td>Female</td>\n",
       "      <td>[20-30)</td>\n",
       "      <td>?</td>\n",
       "      <td>1</td>\n",
       "      <td>1</td>\n",
       "      <td>7</td>\n",
       "      <td>2</td>\n",
       "      <td>...</td>\n",
       "      <td>No</td>\n",
       "      <td>No</td>\n",
       "      <td>No</td>\n",
       "      <td>No</td>\n",
       "      <td>No</td>\n",
       "      <td>No</td>\n",
       "      <td>No</td>\n",
       "      <td>No</td>\n",
       "      <td>Yes</td>\n",
       "      <td>NO</td>\n",
       "    </tr>\n",
       "    <tr>\n",
       "      <th>3</th>\n",
       "      <td>500364</td>\n",
       "      <td>82442376</td>\n",
       "      <td>Caucasian</td>\n",
       "      <td>Male</td>\n",
       "      <td>[30-40)</td>\n",
       "      <td>?</td>\n",
       "      <td>1</td>\n",
       "      <td>1</td>\n",
       "      <td>7</td>\n",
       "      <td>2</td>\n",
       "      <td>...</td>\n",
       "      <td>No</td>\n",
       "      <td>Up</td>\n",
       "      <td>No</td>\n",
       "      <td>No</td>\n",
       "      <td>No</td>\n",
       "      <td>No</td>\n",
       "      <td>No</td>\n",
       "      <td>Ch</td>\n",
       "      <td>Yes</td>\n",
       "      <td>NO</td>\n",
       "    </tr>\n",
       "    <tr>\n",
       "      <th>4</th>\n",
       "      <td>16680</td>\n",
       "      <td>42519267</td>\n",
       "      <td>Caucasian</td>\n",
       "      <td>Male</td>\n",
       "      <td>[40-50)</td>\n",
       "      <td>?</td>\n",
       "      <td>1</td>\n",
       "      <td>1</td>\n",
       "      <td>7</td>\n",
       "      <td>1</td>\n",
       "      <td>...</td>\n",
       "      <td>No</td>\n",
       "      <td>Steady</td>\n",
       "      <td>No</td>\n",
       "      <td>No</td>\n",
       "      <td>No</td>\n",
       "      <td>No</td>\n",
       "      <td>No</td>\n",
       "      <td>Ch</td>\n",
       "      <td>Yes</td>\n",
       "      <td>NO</td>\n",
       "    </tr>\n",
       "  </tbody>\n",
       "</table>\n",
       "<p>5 rows × 50 columns</p>\n",
       "</div>"
      ],
      "text/plain": [
       "   encounter_id  patient_nbr             race  gender      age weight  \\\n",
       "0       2278392      8222157        Caucasian  Female   [0-10)      ?   \n",
       "1        149190     55629189        Caucasian  Female  [10-20)      ?   \n",
       "2         64410     86047875  AfricanAmerican  Female  [20-30)      ?   \n",
       "3        500364     82442376        Caucasian    Male  [30-40)      ?   \n",
       "4         16680     42519267        Caucasian    Male  [40-50)      ?   \n",
       "\n",
       "   admission_type_id  discharge_disposition_id  admission_source_id  \\\n",
       "0                  6                        25                    1   \n",
       "1                  1                         1                    7   \n",
       "2                  1                         1                    7   \n",
       "3                  1                         1                    7   \n",
       "4                  1                         1                    7   \n",
       "\n",
       "   time_in_hospital  ... citoglipton insulin  glyburide-metformin  \\\n",
       "0                 1  ...          No      No                   No   \n",
       "1                 3  ...          No      Up                   No   \n",
       "2                 2  ...          No      No                   No   \n",
       "3                 2  ...          No      Up                   No   \n",
       "4                 1  ...          No  Steady                   No   \n",
       "\n",
       "   glipizide-metformin  glimepiride-pioglitazone  metformin-rosiglitazone  \\\n",
       "0                   No                        No                       No   \n",
       "1                   No                        No                       No   \n",
       "2                   No                        No                       No   \n",
       "3                   No                        No                       No   \n",
       "4                   No                        No                       No   \n",
       "\n",
       "   metformin-pioglitazone  change diabetesMed readmitted  \n",
       "0                      No      No          No         NO  \n",
       "1                      No      Ch         Yes        >30  \n",
       "2                      No      No         Yes         NO  \n",
       "3                      No      Ch         Yes         NO  \n",
       "4                      No      Ch         Yes         NO  \n",
       "\n",
       "[5 rows x 50 columns]"
      ]
     },
     "execution_count": 113,
     "metadata": {},
     "output_type": "execute_result"
    }
   ],
   "source": [
    "df.head()"
   ]
  },
  {
   "cell_type": "code",
   "execution_count": 114,
   "metadata": {},
   "outputs": [
    {
     "data": {
      "text/html": [
       "<div>\n",
       "<style scoped>\n",
       "    .dataframe tbody tr th:only-of-type {\n",
       "        vertical-align: middle;\n",
       "    }\n",
       "\n",
       "    .dataframe tbody tr th {\n",
       "        vertical-align: top;\n",
       "    }\n",
       "\n",
       "    .dataframe thead th {\n",
       "        text-align: right;\n",
       "    }\n",
       "</style>\n",
       "<table border=\"1\" class=\"dataframe\">\n",
       "  <thead>\n",
       "    <tr style=\"text-align: right;\">\n",
       "      <th></th>\n",
       "      <th>encounter_id</th>\n",
       "      <th>patient_nbr</th>\n",
       "      <th>admission_type_id</th>\n",
       "      <th>discharge_disposition_id</th>\n",
       "      <th>admission_source_id</th>\n",
       "      <th>time_in_hospital</th>\n",
       "      <th>num_lab_procedures</th>\n",
       "      <th>num_procedures</th>\n",
       "      <th>num_medications</th>\n",
       "      <th>number_outpatient</th>\n",
       "      <th>number_emergency</th>\n",
       "      <th>number_inpatient</th>\n",
       "      <th>number_diagnoses</th>\n",
       "    </tr>\n",
       "  </thead>\n",
       "  <tbody>\n",
       "    <tr>\n",
       "      <th>count</th>\n",
       "      <td>1.017660e+05</td>\n",
       "      <td>1.017660e+05</td>\n",
       "      <td>101766.000000</td>\n",
       "      <td>101766.000000</td>\n",
       "      <td>101766.000000</td>\n",
       "      <td>101766.000000</td>\n",
       "      <td>101766.000000</td>\n",
       "      <td>101766.000000</td>\n",
       "      <td>101766.000000</td>\n",
       "      <td>101766.000000</td>\n",
       "      <td>101766.000000</td>\n",
       "      <td>101766.000000</td>\n",
       "      <td>101766.000000</td>\n",
       "    </tr>\n",
       "    <tr>\n",
       "      <th>mean</th>\n",
       "      <td>1.652016e+08</td>\n",
       "      <td>5.433040e+07</td>\n",
       "      <td>2.024006</td>\n",
       "      <td>3.715642</td>\n",
       "      <td>5.754437</td>\n",
       "      <td>4.395987</td>\n",
       "      <td>43.095641</td>\n",
       "      <td>1.339730</td>\n",
       "      <td>16.021844</td>\n",
       "      <td>0.369357</td>\n",
       "      <td>0.197836</td>\n",
       "      <td>0.635566</td>\n",
       "      <td>7.422607</td>\n",
       "    </tr>\n",
       "    <tr>\n",
       "      <th>std</th>\n",
       "      <td>1.026403e+08</td>\n",
       "      <td>3.869636e+07</td>\n",
       "      <td>1.445403</td>\n",
       "      <td>5.280166</td>\n",
       "      <td>4.064081</td>\n",
       "      <td>2.985108</td>\n",
       "      <td>19.674362</td>\n",
       "      <td>1.705807</td>\n",
       "      <td>8.127566</td>\n",
       "      <td>1.267265</td>\n",
       "      <td>0.930472</td>\n",
       "      <td>1.262863</td>\n",
       "      <td>1.933600</td>\n",
       "    </tr>\n",
       "    <tr>\n",
       "      <th>min</th>\n",
       "      <td>1.252200e+04</td>\n",
       "      <td>1.350000e+02</td>\n",
       "      <td>1.000000</td>\n",
       "      <td>1.000000</td>\n",
       "      <td>1.000000</td>\n",
       "      <td>1.000000</td>\n",
       "      <td>1.000000</td>\n",
       "      <td>0.000000</td>\n",
       "      <td>1.000000</td>\n",
       "      <td>0.000000</td>\n",
       "      <td>0.000000</td>\n",
       "      <td>0.000000</td>\n",
       "      <td>1.000000</td>\n",
       "    </tr>\n",
       "    <tr>\n",
       "      <th>25%</th>\n",
       "      <td>8.496119e+07</td>\n",
       "      <td>2.341322e+07</td>\n",
       "      <td>1.000000</td>\n",
       "      <td>1.000000</td>\n",
       "      <td>1.000000</td>\n",
       "      <td>2.000000</td>\n",
       "      <td>31.000000</td>\n",
       "      <td>0.000000</td>\n",
       "      <td>10.000000</td>\n",
       "      <td>0.000000</td>\n",
       "      <td>0.000000</td>\n",
       "      <td>0.000000</td>\n",
       "      <td>6.000000</td>\n",
       "    </tr>\n",
       "    <tr>\n",
       "      <th>50%</th>\n",
       "      <td>1.523890e+08</td>\n",
       "      <td>4.550514e+07</td>\n",
       "      <td>1.000000</td>\n",
       "      <td>1.000000</td>\n",
       "      <td>7.000000</td>\n",
       "      <td>4.000000</td>\n",
       "      <td>44.000000</td>\n",
       "      <td>1.000000</td>\n",
       "      <td>15.000000</td>\n",
       "      <td>0.000000</td>\n",
       "      <td>0.000000</td>\n",
       "      <td>0.000000</td>\n",
       "      <td>8.000000</td>\n",
       "    </tr>\n",
       "    <tr>\n",
       "      <th>75%</th>\n",
       "      <td>2.302709e+08</td>\n",
       "      <td>8.754595e+07</td>\n",
       "      <td>3.000000</td>\n",
       "      <td>4.000000</td>\n",
       "      <td>7.000000</td>\n",
       "      <td>6.000000</td>\n",
       "      <td>57.000000</td>\n",
       "      <td>2.000000</td>\n",
       "      <td>20.000000</td>\n",
       "      <td>0.000000</td>\n",
       "      <td>0.000000</td>\n",
       "      <td>1.000000</td>\n",
       "      <td>9.000000</td>\n",
       "    </tr>\n",
       "    <tr>\n",
       "      <th>max</th>\n",
       "      <td>4.438672e+08</td>\n",
       "      <td>1.895026e+08</td>\n",
       "      <td>8.000000</td>\n",
       "      <td>28.000000</td>\n",
       "      <td>25.000000</td>\n",
       "      <td>14.000000</td>\n",
       "      <td>132.000000</td>\n",
       "      <td>6.000000</td>\n",
       "      <td>81.000000</td>\n",
       "      <td>42.000000</td>\n",
       "      <td>76.000000</td>\n",
       "      <td>21.000000</td>\n",
       "      <td>16.000000</td>\n",
       "    </tr>\n",
       "  </tbody>\n",
       "</table>\n",
       "</div>"
      ],
      "text/plain": [
       "       encounter_id   patient_nbr  admission_type_id  \\\n",
       "count  1.017660e+05  1.017660e+05      101766.000000   \n",
       "mean   1.652016e+08  5.433040e+07           2.024006   \n",
       "std    1.026403e+08  3.869636e+07           1.445403   \n",
       "min    1.252200e+04  1.350000e+02           1.000000   \n",
       "25%    8.496119e+07  2.341322e+07           1.000000   \n",
       "50%    1.523890e+08  4.550514e+07           1.000000   \n",
       "75%    2.302709e+08  8.754595e+07           3.000000   \n",
       "max    4.438672e+08  1.895026e+08           8.000000   \n",
       "\n",
       "       discharge_disposition_id  admission_source_id  time_in_hospital  \\\n",
       "count             101766.000000        101766.000000     101766.000000   \n",
       "mean                   3.715642             5.754437          4.395987   \n",
       "std                    5.280166             4.064081          2.985108   \n",
       "min                    1.000000             1.000000          1.000000   \n",
       "25%                    1.000000             1.000000          2.000000   \n",
       "50%                    1.000000             7.000000          4.000000   \n",
       "75%                    4.000000             7.000000          6.000000   \n",
       "max                   28.000000            25.000000         14.000000   \n",
       "\n",
       "       num_lab_procedures  num_procedures  num_medications  number_outpatient  \\\n",
       "count       101766.000000   101766.000000    101766.000000      101766.000000   \n",
       "mean            43.095641        1.339730        16.021844           0.369357   \n",
       "std             19.674362        1.705807         8.127566           1.267265   \n",
       "min              1.000000        0.000000         1.000000           0.000000   \n",
       "25%             31.000000        0.000000        10.000000           0.000000   \n",
       "50%             44.000000        1.000000        15.000000           0.000000   \n",
       "75%             57.000000        2.000000        20.000000           0.000000   \n",
       "max            132.000000        6.000000        81.000000          42.000000   \n",
       "\n",
       "       number_emergency  number_inpatient  number_diagnoses  \n",
       "count     101766.000000     101766.000000     101766.000000  \n",
       "mean           0.197836          0.635566          7.422607  \n",
       "std            0.930472          1.262863          1.933600  \n",
       "min            0.000000          0.000000          1.000000  \n",
       "25%            0.000000          0.000000          6.000000  \n",
       "50%            0.000000          0.000000          8.000000  \n",
       "75%            0.000000          1.000000          9.000000  \n",
       "max           76.000000         21.000000         16.000000  "
      ]
     },
     "execution_count": 114,
     "metadata": {},
     "output_type": "execute_result"
    }
   ],
   "source": [
    "df.describe()"
   ]
  },
  {
   "cell_type": "markdown",
   "metadata": {},
   "source": [
    "## 2.3 Verify Data Quality <a class=\"anchor\" id=\"Verifydataquality\"></a>"
   ]
  },
  {
   "cell_type": "markdown",
   "metadata": {},
   "source": [
    "### 2.3.1. Missing Data <a class=\"anchor\" id=\"MissingData\"></a>"
   ]
  },
  {
   "cell_type": "code",
   "execution_count": 115,
   "metadata": {},
   "outputs": [
    {
     "name": "stdout",
     "output_type": "stream",
     "text": [
      "<class 'pandas.core.frame.DataFrame'>\n",
      "RangeIndex: 101766 entries, 0 to 101765\n",
      "Data columns (total 50 columns):\n",
      " #   Column                    Non-Null Count   Dtype \n",
      "---  ------                    --------------   ----- \n",
      " 0   encounter_id              101766 non-null  int64 \n",
      " 1   patient_nbr               101766 non-null  int64 \n",
      " 2   race                      101766 non-null  object\n",
      " 3   gender                    101766 non-null  object\n",
      " 4   age                       101766 non-null  object\n",
      " 5   weight                    101766 non-null  object\n",
      " 6   admission_type_id         101766 non-null  int64 \n",
      " 7   discharge_disposition_id  101766 non-null  int64 \n",
      " 8   admission_source_id       101766 non-null  int64 \n",
      " 9   time_in_hospital          101766 non-null  int64 \n",
      " 10  payer_code                101766 non-null  object\n",
      " 11  medical_specialty         101766 non-null  object\n",
      " 12  num_lab_procedures        101766 non-null  int64 \n",
      " 13  num_procedures            101766 non-null  int64 \n",
      " 14  num_medications           101766 non-null  int64 \n",
      " 15  number_outpatient         101766 non-null  int64 \n",
      " 16  number_emergency          101766 non-null  int64 \n",
      " 17  number_inpatient          101766 non-null  int64 \n",
      " 18  diag_1                    101766 non-null  object\n",
      " 19  diag_2                    101766 non-null  object\n",
      " 20  diag_3                    101766 non-null  object\n",
      " 21  number_diagnoses          101766 non-null  int64 \n",
      " 22  max_glu_serum             101766 non-null  object\n",
      " 23  A1Cresult                 101766 non-null  object\n",
      " 24  metformin                 101766 non-null  object\n",
      " 25  repaglinide               101766 non-null  object\n",
      " 26  nateglinide               101766 non-null  object\n",
      " 27  chlorpropamide            101766 non-null  object\n",
      " 28  glimepiride               101766 non-null  object\n",
      " 29  acetohexamide             101766 non-null  object\n",
      " 30  glipizide                 101766 non-null  object\n",
      " 31  glyburide                 101766 non-null  object\n",
      " 32  tolbutamide               101766 non-null  object\n",
      " 33  pioglitazone              101766 non-null  object\n",
      " 34  rosiglitazone             101766 non-null  object\n",
      " 35  acarbose                  101766 non-null  object\n",
      " 36  miglitol                  101766 non-null  object\n",
      " 37  troglitazone              101766 non-null  object\n",
      " 38  tolazamide                101766 non-null  object\n",
      " 39  examide                   101766 non-null  object\n",
      " 40  citoglipton               101766 non-null  object\n",
      " 41  insulin                   101766 non-null  object\n",
      " 42  glyburide-metformin       101766 non-null  object\n",
      " 43  glipizide-metformin       101766 non-null  object\n",
      " 44  glimepiride-pioglitazone  101766 non-null  object\n",
      " 45  metformin-rosiglitazone   101766 non-null  object\n",
      " 46  metformin-pioglitazone    101766 non-null  object\n",
      " 47  change                    101766 non-null  object\n",
      " 48  diabetesMed               101766 non-null  object\n",
      " 49  readmitted                101766 non-null  object\n",
      "dtypes: int64(13), object(37)\n",
      "memory usage: 38.8+ MB\n"
     ]
    }
   ],
   "source": [
    "df.info()"
   ]
  },
  {
   "cell_type": "markdown",
   "metadata": {},
   "source": [
    "It is supicious that there are not missing value. "
   ]
  },
  {
   "cell_type": "markdown",
   "metadata": {},
   "source": [
    "Checking unique values in object columns"
   ]
  },
  {
   "cell_type": "code",
   "execution_count": 116,
   "metadata": {
    "scrolled": true
   },
   "outputs": [
    {
     "name": "stdout",
     "output_type": "stream",
     "text": [
      ">>race: len: 6 list: ['Caucasian' 'AfricanAmerican' '?' 'Other' 'Asian' 'Hispanic'] \n",
      "\n",
      ">>gender: len: 3 list: ['Female' 'Male' 'Unknown/Invalid'] \n",
      "\n",
      ">>age: len: 10 list: ['[0-10)' '[10-20)' '[20-30)' '[30-40)' '[40-50)' '[50-60)' '[60-70)'\n",
      " '[70-80)' '[80-90)' '[90-100)'] \n",
      "\n",
      ">>weight: len: 10 list: ['?' '[75-100)' '[50-75)' '[0-25)' '[100-125)' '[25-50)' '[125-150)'\n",
      " '[175-200)' '[150-175)' '>200'] \n",
      "\n",
      ">>payer_code: len: 18 list: ['?' 'MC' 'MD' 'HM' 'UN' 'BC' 'SP' 'CP' 'SI' 'DM' 'CM' 'CH' 'PO' 'WC' 'OT'\n",
      " 'OG' 'MP' 'FR'] \n",
      "\n",
      ">>medical_specialty: len: 73 list: ['Pediatrics-Endocrinology' '?' 'InternalMedicine'\n",
      " 'Family/GeneralPractice' 'Cardiology' 'Surgery-General' 'Orthopedics'\n",
      " 'Gastroenterology' 'Surgery-Cardiovascular/Thoracic' 'Nephrology'\n",
      " 'Orthopedics-Reconstructive' 'Psychiatry' 'Emergency/Trauma'\n",
      " 'Pulmonology' 'Surgery-Neuro' 'Obsterics&Gynecology-GynecologicOnco'\n",
      " 'ObstetricsandGynecology' 'Pediatrics' 'Hematology/Oncology'\n",
      " 'Otolaryngology' 'Surgery-Colon&Rectal' 'Pediatrics-CriticalCare'\n",
      " 'Endocrinology' 'Urology' 'Psychiatry-Child/Adolescent'\n",
      " 'Pediatrics-Pulmonology' 'Neurology' 'Anesthesiology-Pediatric'\n",
      " 'Radiology' 'Pediatrics-Hematology-Oncology' 'Psychology' 'Podiatry'\n",
      " 'Gynecology' 'Oncology' 'Pediatrics-Neurology' 'Surgery-Plastic'\n",
      " 'Surgery-Thoracic' 'Surgery-PlasticwithinHeadandNeck' 'Ophthalmology'\n",
      " 'Surgery-Pediatric' 'Pediatrics-EmergencyMedicine'\n",
      " 'PhysicalMedicineandRehabilitation' 'InfectiousDiseases' 'Anesthesiology'\n",
      " 'Rheumatology' 'AllergyandImmunology' 'Surgery-Maxillofacial'\n",
      " 'Pediatrics-InfectiousDiseases' 'Pediatrics-AllergyandImmunology'\n",
      " 'Dentistry' 'Surgeon' 'Surgery-Vascular' 'Osteopath'\n",
      " 'Psychiatry-Addictive' 'Surgery-Cardiovascular' 'PhysicianNotFound'\n",
      " 'Hematology' 'Proctology' 'Obstetrics' 'SurgicalSpecialty' 'Radiologist'\n",
      " 'Pathology' 'Dermatology' 'SportsMedicine' 'Speech' 'Hospitalist'\n",
      " 'OutreachServices' 'Cardiology-Pediatric' 'Perinatology'\n",
      " 'Neurophysiology' 'Endocrinology-Metabolism' 'DCPTEAM' 'Resident'] \n",
      "\n",
      ">>diag_1: len: 717 list: ['250.83' '276' '648' '8' '197' '414' '428' '398' '434' '250.7' '157'\n",
      " '518' '999' '410' '682' '402' '737' '572' 'V57' '189' '786' '427' '996'\n",
      " '277' '584' '462' '473' '411' '174' '486' '998' '511' '432' '626' '295'\n",
      " '196' '250.6' '618' '182' '845' '423' '808' '250.4' '722' '403' '250.11'\n",
      " '784' '707' '440' '151' '715' '997' '198' '564' '812' '38' '590' '556'\n",
      " '578' '250.32' '433' 'V58' '569' '185' '536' '255' '250.13' '599' '558'\n",
      " '574' '491' '560' '244' '250.03' '577' '730' '188' '824' '250.8' '332'\n",
      " '562' '291' '296' '510' '401' '263' '438' '70' '250.02' '493' '642' '625'\n",
      " '571' '738' '593' '250.42' '807' '456' '446' '575' '250.41' '820' '515'\n",
      " '780' '250.22' '995' '235' '250.82' '721' '787' '162' '724' '282' '514'\n",
      " 'V55' '281' '250.33' '530' '466' '435' '250.12' 'V53' '789' '566' '822'\n",
      " '191' '557' '733' '455' '711' '482' '202' '280' '553' '225' '154' '441'\n",
      " '250.81' '349' '?' '962' '592' '507' '386' '156' '200' '728' '348' '459'\n",
      " '426' '388' '607' '337' '82' '531' '596' '288' '656' '573' '492' '220'\n",
      " '516' '210' '922' '286' '885' '958' '661' '969' '250.93' '227' '112'\n",
      " '404' '823' '532' '416' '346' '535' '453' '250' '595' '211' '303'\n",
      " '250.01' '852' '218' '782' '540' '457' '285' '431' '340' '550' '54' '351'\n",
      " '601' '723' '555' '153' '443' '380' '204' '424' '241' '358' '694' '331'\n",
      " '345' '681' '447' '290' '158' '579' '436' '335' '309' '654' '805' '799'\n",
      " '292' '183' '78' '851' '458' '586' '311' '892' '305' '293' '415' '591'\n",
      " '794' '803' '79' '655' '429' '278' '658' '598' '729' '585' '444' '604'\n",
      " '727' '214' '552' '284' '680' '708' '41' '644' '481' '821' '413' '437'\n",
      " '968' '756' '632' '359' '275' '512' '781' '420' '368' '522' '294' '825'\n",
      " '135' '304' '320' '250.31' '669' '868' '496' '250.43' '826' '567' '3'\n",
      " '203' '53' '251' '565' '161' '495' '49' '250.1' '297' '663' '576' '355'\n",
      " '850' '287' '250.2' '611' '840' '350' '726' '537' '620' '180' '366' '783'\n",
      " '11' '751' '716' '250.3' '199' '464' '580' '836' '664' '283' '813' '966'\n",
      " '289' '965' '184' '480' '608' '333' '972' '212' '117' '788' '924' '959'\n",
      " '621' '238' '785' '714' '942' '250.23' '710' '47' '933' '508' '478' '844'\n",
      " '7' '736' '233' '42' '250.5' '397' '395' '201' '421' '253' '250.92' '600'\n",
      " '494' '977' '39' '659' '312' '614' '647' '652' '646' '274' '861' '425'\n",
      " '527' '451' '485' '217' '250.53' '442' '970' '193' '160' '322' '581'\n",
      " '475' '623' '374' '582' '568' '465' '801' '237' '376' '150' '461' '913'\n",
      " '226' '617' '987' '641' '298' '790' '336' '362' '228' '513' '383' '746'\n",
      " '353' '911' '506' '873' '155' '860' '534' '802' '141' 'V45' '396' '310'\n",
      " '341' '242' '719' '239' '533' '616' '519' '301' 'V66' '5' '989' '230'\n",
      " '385' '300' '853' '871' '570' '848' '463' '9' '934' '250.21' '236' '361'\n",
      " '594' '501' '810' '643' '430' '528' '205' '791' '983' '992' '490' '172'\n",
      " '171' '622' '306' '863' '864' '474' '660' '759' '356' '634' '967' '551'\n",
      " '695' '187' '732' '747' '323' '308' '370' '252' '152' '846' '164' '365'\n",
      " '718' '48' '266' '720' '94' '344' '797' '170' '878' '904' 'V56' '882'\n",
      " '843' '709' '973' '454' '686' '939' '487' '229' '991' '483' '357' '692'\n",
      " '796' '693' '935' '936' '800' '920' 'V26' '261' '307' '262' '250.9' '831'\n",
      " '145' '223' 'V71' '839' '685' 'V54' '35' '34' '179' '964' '136' '324'\n",
      " '389' '815' '334' '143' '526' '588' '192' 'V67' '394' '917' '88' '219'\n",
      " '325' '792' '717' '994' '990' '793' '207' '637' '195' '373' '847' '827'\n",
      " '31' '891' '814' 'V60' '703' '865' '352' '627' '378' '342' '886' '369'\n",
      " '745' '705' '816' '541' '986' '610' '633' '640' '753' '173' '835' '379'\n",
      " '445' '272' '382' '945' '619' '881' '250.52' '866' '405' '916' '215'\n",
      " '893' '75' '671' '928' '906' '897' '725' '867' '115' '890' '734' '521'\n",
      " '674' '470' '834' '146' '696' '524' '980' '691' '384' '142' '879'\n",
      " '250.51' '246' '208' '448' '955' '653' '149' '245' '735' '883' '854'\n",
      " '952' '838' '194' 'V43' '163' '216' '147' '354' '27' '477' '318' '880'\n",
      " '921' '377' '471' '683' '175' '602' '250.91' '982' '706' '375' '417'\n",
      " '131' '347' '870' '148' '862' '61' '817' '914' '360' '684' '314' 'V63'\n",
      " '36' '57' '240' '915' '971' '795' '988' '452' '963' '327' '731' '842'\n",
      " 'V25' '645' '665' '110' '944' '603' '923' '412' '363' '957' '976' '698'\n",
      " '299' '700' '273' '974' '97' '529' '66' '98' '605' '941' '52' '806' '84'\n",
      " '271' '837' '657' '895' '338' '523' '542' '114' '543' '372' 'V70' 'E909'\n",
      " '583' 'V07' '422' '615' '279' '500' '903' '919' '875' '381' '804' '704'\n",
      " '23' '58' '649' '832' '133' '975' '833' '391' '690' '10' 'V51'] \n",
      "\n",
      ">>diag_2: len: 749 list: ['?' '250.01' '250' '250.43' '157' '411' '492' '427' '198' '403' '288'\n",
      " '998' '507' '174' '425' '456' '401' '715' '496' '428' '585' '250.02'\n",
      " '410' '999' '996' '135' '244' '41' '571' '276' '997' '599' '424' '491'\n",
      " '553' '707' '286' '440' '493' '242' '70' 'V45' '250.03' '357' '511' '196'\n",
      " '396' '197' '414' '250.52' '577' '535' '413' '285' '53' '780' '518' '150'\n",
      " '566' '250.6' '867' '486' 'V15' '8' '788' '340' '574' '581' '228' '530'\n",
      " '250.82' '786' '294' '567' '785' '512' '305' '729' '250.51' '280' '648'\n",
      " '560' '618' '444' '38' 'V10' '578' '277' '781' '250.42' '278' '426' '584'\n",
      " '462' '402' '153' '272' '733' '34' '881' '203' '250.41' '250.13' '293'\n",
      " '245' '250.12' '558' '787' '342' '573' '626' '303' '250.53' '458' '710'\n",
      " '415' 'V42' '284' '569' '759' '682' '112' '292' '435' '290' '250.93'\n",
      " '642' '536' '398' '319' '711' 'E878' '446' '255' 'V44' '250.7' '784'\n",
      " '300' '562' '162' '287' '447' '789' '790' '591' '200' '154' '304' '117'\n",
      " '847' '852' '250.83' '250.11' '816' '575' '416' '412' '441' '515' '372'\n",
      " '482' '382' 'V65' '572' '283' '78' '250.81' '576' '432' '595' '295' 'V12'\n",
      " '204' '466' '721' '434' '590' '271' '813' '368' '227' '783' '250.5' '258'\n",
      " '253' '309' '250.91' '519' '333' '459' '250.92' '250.4' '179' '420' '345'\n",
      " '433' '661' '537' '205' '722' '405' '437' '714' '211' 'E812' '263' '202'\n",
      " '397' '250.23' 'E932' '201' '301' '723' '614' '568' '861' 'V57' '724'\n",
      " '189' '297' '453' 'E888' '730' '354' '451' '738' 'E939' '805' 'V43' '155'\n",
      " '910' '218' '358' '220' 'E937' '583' '958' '794' '564' '436' '250.22'\n",
      " '620' '621' '331' '617' '596' '314' '378' '250.8' '625' '478' '731' '172'\n",
      " '404' '681' '470' '279' '281' '531' '443' '799' '337' '311' '719' 'E944'\n",
      " '423' 'E870' '465' 'E849' '782' '481' '480' 'V23' '199' '79' '438' '348'\n",
      " '42' 'E950' '473' '627' '726' '54' '490' '317' '332' '508' '369' '600'\n",
      " '349' '485' '208' '922' '431' '296' 'E934' '753' 'E935' '386' '728' '607'\n",
      " 'E915' '344' '716' '289' '191' '873' '850' '611' '377' '352' '616' 'V17'\n",
      " '136' '455' '933' 'E885' '860' '513' '603' '484' '223' 'V72' '291' '151'\n",
      " 'V58' '550' '510' '891' '185' '592' '791' '138' '598' '336' '362' '217'\n",
      " '825' '298' '821' 'E880' '343' '429' 'E879' '579' '225' '250.9' 'V49'\n",
      " '696' '233' '658' '969' '275' '250.1' '601' '704' '808' 'E890' 'V18'\n",
      " '920' '380' '570' 'E817' '359' '812' '274' 'V14' '324' '758' 'V66' '911'\n",
      " 'E931' 'E924' '593' '792' '727' 'V46' '394' '532' 'V64' '557' '864' '718'\n",
      " 'E942' '807' '604' '924' '820' '580' '273' '241' '282' '824' 'V61' '646'\n",
      " '701' '736' '565' '383' '250.2' 'E947' '452' '872' '905' 'E930' '921'\n",
      " '131' '448' '389' '421' '214' '705' '494' '752' '623' '9' '299' '959'\n",
      " '365' '967' 'E858' '40' '691' '909' '5' '814' '746' '250.31' '556' '680'\n",
      " '745' '351' '306' '110' '695' '552' '346' '918' '882' '947' '520' '188'\n",
      " '31' '356' '737' 'V08' '322' '182' '517' '974' 'E929' 'V53' '912' '252'\n",
      " '608' '516' 'E933' '94' '702' '923' '594' '647' '111' '934' '430' '487'\n",
      " '709' '796' '156' '977' '915' '756' '840' '341' '259' '693' '725' 'V62'\n",
      " '528' '683' '953' '457' '501' 'E900' 'V09' '522' '919' '461' '506' '193'\n",
      " '483' 'E936' '717' '802' '335' 'V54' '320' '945' '906' '239' '454' '826'\n",
      " '823' 'E941' '226' '795' '684' '844' '250.33' '308' '615' '588' '712'\n",
      " '663' '706' '833' '741' '713' '533' 'E884' '586' '555' '755' 'E928' '742'\n",
      " '869' '962' 'V11' '543' '373' '870' '913' '152' '810' '965' '907' '908'\n",
      " '995' '845' '474' '442' '751' '323' '472' '464' '686' '250.32' '540'\n",
      " '251' '811' '652' '659' '851' '422' '815' '307' '325' '463' '992' '692'\n",
      " '521' '917' 'E965' '524' '916' 'E813' '173' '238' '137' '514' '312' '837'\n",
      " '355' '980' '622' '475' '500' '754' '261' '801' '868' '968' '381' '11'\n",
      " '250.21' '694' '610' '734' 'E814' '310' '130' '246' '892' '846' '634'\n",
      " '75' 'E927' 'E905' '183' '379' 'E917' '163' 'E868' '495' '747' '989'\n",
      " 'E854' '240' '832' '605' '602' '644' 'V16' '35' 'V70' '376' '266' 'E918'\n",
      " '619' '477' '656' '46' '883' '171' 'V13' '698' '842' 'E850' '800' '269'\n",
      " '664' 'E887' '952' '164' 'E881' '527' '685' '366' '836' '27' 'V63' '865'\n",
      " '793' '232' '990' '52' '831' '327' '542' '806' '972' '862' 'E829' 'E919'\n",
      " '944' 'E916' '963' '316' '645' '347' 'V85' '374' 'V02' '748' '256' '186'\n",
      " '866' '975' '96' '395' '262' 'E819' '654' '994' '318' 'E826' '879' '674'\n",
      " '641' '822' '145' '797' '353' 'E938' 'E816' '948' '987' '99' '192'\n",
      " '250.3' 'E906' '534' '115' 'E818' 'E980' '360' '338' '529' '871' '750'\n",
      " '212' '302' '955' '141' '88' 'V25' '215' '350' 'V50' 'V03' 'E853' 'E968'\n",
      " 'E882' '140' '703' '991' '893' 'E821' '235' 'V69' '670' '195' 'V55' '388'\n",
      " '268' '894' '114' '260' '853' '7' '880' 'V86' '180' 'E945' '523' '863'\n",
      " '649' '270' '665' '460' '942' '364' '66' 'E883' '123' '884' 'V60' '843'\n",
      " '927'] \n",
      "\n",
      ">>diag_3: len: 790 list: ['?' '255' 'V27' '403' '250' 'V45' '38' '486' '996' '197' '250.6' '427'\n",
      " '627' '414' '416' '714' '428' '582' 'V43' '250.01' '263' '250.42' '276'\n",
      " '482' '401' '250.41' '585' '781' '278' '998' '568' '682' '618' '250.02'\n",
      " '305' '707' '496' '599' '715' '424' '518' '553' '794' '411' 'V42' '531'\n",
      " '511' '490' '562' '250.8' '250.7' '250.52' '784' '491' '581' '420' '8'\n",
      " '724' '730' '789' '131' '250.82' '999' '41' '493' '250.03' '753' '786'\n",
      " '529' 'E888' '425' '595' '303' '560' '711' '492' '332' '296' '438' '362'\n",
      " '250.4' '654' '244' 'V70' '737' '625' '681' '250.51' '404' 'V10' '810'\n",
      " '280' '440' '785' '588' '569' '272' '997' '250.43' '918' '584' '54' '788'\n",
      " '426' '722' '250.92' '196' '461' '535' '787' '891' '284' '458' '648'\n",
      " '780' '182' '285' '593' '413' '664' '564' '201' '356' 'V15' '292' '782'\n",
      " '473' '455' 'E932' '357' '348' '294' '250.23' '459' 'E878' '437' '733'\n",
      " '507' '525' '250.53' '397' '572' '805' '453' '331' '736' '402' '591'\n",
      " '576' '465' '533' '703' '349' '315' '658' '608' '578' '716' '382' '300'\n",
      " '282' '571' '536' '596' '287' '644' 'V11' '558' 'E885' '162' '198' '218'\n",
      " '412' '396' 'V14' '570' '433' 'E934' '882' '288' '577' '443' '729' '836'\n",
      " '295' '799' '281' '304' '153' '410' '616' '250.83' '601' '291' '75' '512'\n",
      " '660' '250.5' '598' '337' '574' '653' 'V58' '311' '415' '386' '602' '790'\n",
      " '112' '873' '620' '436' '70' '155' '138' '663' '530' '710' '42' '342'\n",
      " '250.91' 'E884' '515' '307' '704' '728' '731' '583' '238' '441' '293'\n",
      " '573' '532' '290' '594' '319' '250.13' '250.12' '519' '346' '380' '135'\n",
      " '642' '698' '924' '905' 'E933' '555' '309' 'E879' '286' '565' '752' '580'\n",
      " '446' '444' '344' '252' '35' '813' '394' '301' '575' '258' 'V17' '802'\n",
      " '435' '746' 'V12' '709' '881' 'E935' '139' '250.81' '718' '365' '202'\n",
      " '334' '185' '398' 'V44' '517' 'E849' '614' '466' '626' '250.9' '368'\n",
      " '605' '883' '289' '478' '617' '429' '442' 'V25' '866' '610' '557' '959'\n",
      " 'E942' '94' '920' '345' '313' '379' '79' '516' '586' '821' '600' '242'\n",
      " '373' '592' 'V64' '487' '253' '706' 'E947' '117' '340' 'E950' '656'\n",
      " 'E949' '590' 'V09' '250.22' '934' '694' '203' '250.93' '995' '726' '923'\n",
      " '958' '275' 'E929' '211' 'V18' 'V66' '199' '665' '53' '279' '522' '791'\n",
      " '890' '456' 'E938' 'E816' '122' '721' 'V65' '136' '480' '423' 'E920'\n",
      " '793' '647' '537' '351' '845' '336' '274' '719' '945' '434' '494' '227'\n",
      " '157' '208' '174' 'V57' '812' '734' '150' 'V23' '447' '692' '228' 'V16'\n",
      " '756' '405' 'E928' '823' '552' '528' '389' '240' '454' '792' '366' 'E939'\n",
      " '907' '270' '310' '266' '387' 'E931' '783' '245' '607' '355' 'E930' '705'\n",
      " '372' '369' '611' '283' 'V46' '110' '867' 'E956' '251' '250.2' '820'\n",
      " '712' '695' '567' '343' '723' 'V08' '273' '623' '807' '451' '495' '701'\n",
      " '34' 'V53' '314' '472' 'E945' '11' '189' '534' '354' '333' 'V54' '277'\n",
      " '659' '708' '452' '655' '816' '670' '621' '246' '953' '865' 'E817' '646'\n",
      " '151' '378' '78' '298' '840' '641' '521' '745' '619' '912' '506' 'E904'\n",
      " '259' 'E870' 'E980' '383' '204' '696' '566' '727' '47' 'E943' '358' '191'\n",
      " '965' '921' '432' '27' 'E861' '758' '477' '524' '751' '652' '556' '188'\n",
      " '825' '919' '732' '908' '951' '962' '685' 'E850' 'E944' '527' '341' '693'\n",
      " '250.1' 'V49' '860' '323' 'V55' '579' '508' '969' '205' '462' 'E880'\n",
      " '680' '697' '826' '200' '457' '717' '738' '742' '735' '235' '308' '725'\n",
      " '241' '824' '464' '260' '917' '239' '661' '892' '261' 'E883' '943' '744'\n",
      " 'E936' '796' '318' '967' '350' '854' 'E905' '9' '741' 'E941' '170' '643'\n",
      " '317' '759' '909' 'V22' '831' '713' '180' '801' '360' '359' '501' '335'\n",
      " '250.11' '306' '811' '690' 'V02' '271' '214' '847' '543' 'V63' '906'\n",
      " '842' '686' '445' '808' '861' 'E852' '220' 'E887' 'E858' '915' '970'\n",
      " '256' '747' '395' '243' '815' '481' '5' 'E927' '297' '299' '851' '864'\n",
      " '922' '384' 'E876' '225' '158' 'E937' '871' '88' '966' 'E917' 'E812'\n",
      " 'V62' 'E924' '604' '233' 'E916' '377' '797' 'V72' '172' '7' '421' '852'\n",
      " 'E819' '972' '916' '956' '3' 'E965' '173' '193' '154' '347' '862' '250.3'\n",
      " '987' '470' '262' 'E855' '161' '115' '179' '910' '312' '17' '460' '265'\n",
      " '66' '163' 'V60' '870' 'E906' '514' '944' '844' '417' '152' '183' '991'\n",
      " '216' '385' '164' '935' '510' '814' '485' '850' '250.21' 'E919' '872'\n",
      " '195' '431' '597' '933' '171' '884' '156' '868' '483' 'E815' '542' 'V61'\n",
      " '853' '374' 'E881' 'E882' 'E822' '192' '754' '327' '523' '500' 'V85'\n",
      " '992' '657' '684' '603' 'E826' '550' '913' '376' '755' '361' '186' '720'\n",
      " '250.31' '674' '911' 'E813' '226' '365.44' 'E818' '146' '955' 'E894'\n",
      " '475' 'V13' '880' '930' 'E915' '381' '132' '353' '795' '893' 'V01' 'E853'\n",
      " '863' '540' 'E828' '430' '800' 'E865' '148' 'E946' '822' '879' '848'\n",
      " 'V86' 'V03' '338' '989' '388' 'E966' '111' 'E922' '123' '757' 'E901'\n",
      " '141' '268' 'E892' '649' '702' '948' '223' '484' 'E886' '838' '928' '236'\n",
      " '624' '837' 'E987' 'V07' '841' '622' 'E912' 'E955' '463' 'V06' 'E864'\n",
      " '217' '877' '391' 'E825' '952' '669' '875' 'E900' '215' '538' '980' '834'\n",
      " '448' '175' '49' '876' '230' '57' 'E854' '942' '14' '750' '370' '671'\n",
      " '971'] \n",
      "\n",
      ">>max_glu_serum: len: 4 list: ['None' '>300' 'Norm' '>200'] \n",
      "\n",
      ">>A1Cresult: len: 4 list: ['None' '>7' '>8' 'Norm'] \n",
      "\n",
      ">>metformin: len: 4 list: ['No' 'Steady' 'Up' 'Down'] \n",
      "\n",
      ">>repaglinide: len: 4 list: ['No' 'Up' 'Steady' 'Down'] \n",
      "\n",
      ">>nateglinide: len: 4 list: ['No' 'Steady' 'Down' 'Up'] \n",
      "\n",
      ">>chlorpropamide: len: 4 list: ['No' 'Steady' 'Down' 'Up'] \n",
      "\n",
      ">>glimepiride: len: 4 list: ['No' 'Steady' 'Down' 'Up'] \n",
      "\n",
      ">>acetohexamide: len: 2 list: ['No' 'Steady'] \n",
      "\n",
      ">>glipizide: len: 4 list: ['No' 'Steady' 'Up' 'Down'] \n",
      "\n",
      ">>glyburide: len: 4 list: ['No' 'Steady' 'Up' 'Down'] \n",
      "\n",
      ">>tolbutamide: len: 2 list: ['No' 'Steady'] \n",
      "\n",
      ">>pioglitazone: len: 4 list: ['No' 'Steady' 'Up' 'Down'] \n",
      "\n",
      ">>rosiglitazone: len: 4 list: ['No' 'Steady' 'Up' 'Down'] \n",
      "\n",
      ">>acarbose: len: 4 list: ['No' 'Steady' 'Up' 'Down'] \n",
      "\n",
      ">>miglitol: len: 4 list: ['No' 'Steady' 'Down' 'Up'] \n",
      "\n",
      ">>troglitazone: len: 2 list: ['No' 'Steady'] \n",
      "\n",
      ">>tolazamide: len: 3 list: ['No' 'Steady' 'Up'] \n",
      "\n",
      "\t<<<< one value column >>>>\n",
      ">>examide: len: 1 list: ['No'] \n",
      "\n",
      "\t<<<< one value column >>>>\n",
      ">>citoglipton: len: 1 list: ['No'] \n",
      "\n",
      ">>insulin: len: 4 list: ['No' 'Up' 'Steady' 'Down'] \n",
      "\n",
      ">>glyburide-metformin: len: 4 list: ['No' 'Steady' 'Down' 'Up'] \n",
      "\n",
      ">>glipizide-metformin: len: 2 list: ['No' 'Steady'] \n",
      "\n",
      ">>glimepiride-pioglitazone: len: 2 list: ['No' 'Steady'] \n",
      "\n",
      ">>metformin-rosiglitazone: len: 2 list: ['No' 'Steady'] \n",
      "\n",
      ">>metformin-pioglitazone: len: 2 list: ['No' 'Steady'] \n",
      "\n",
      ">>change: len: 2 list: ['No' 'Ch'] \n",
      "\n",
      ">>diabetesMed: len: 2 list: ['No' 'Yes'] \n",
      "\n",
      ">>readmitted: len: 3 list: ['NO' '>30' '<30'] \n",
      "\n"
     ]
    }
   ],
   "source": [
    "for col in df.select_dtypes(include = ['object']):\n",
    "    unique = df[col].unique()\n",
    "    if len(unique) == 1:\n",
    "        print(f\"\\t<<<< one value column >>>>\")\n",
    "    print(f\">>{col}: len: {len(unique)} list: {unique} \\n\")"
   ]
  },
  {
   "cell_type": "markdown",
   "metadata": {},
   "source": [
    "\"?\" is the missing code. So, I'm going change it for np.NaN"
   ]
  },
  {
   "cell_type": "code",
   "execution_count": 117,
   "metadata": {},
   "outputs": [],
   "source": [
    "df.replace('?',np.nan,inplace=True)"
   ]
  },
  {
   "cell_type": "markdown",
   "metadata": {},
   "source": [
    "Now, it time to see the columns with a lot of missings"
   ]
  },
  {
   "cell_type": "code",
   "execution_count": 118,
   "metadata": {},
   "outputs": [
    {
     "data": {
      "text/plain": [
       "0               weight\n",
       "1    medical_specialty\n",
       "Name: Feature, dtype: object"
      ]
     },
     "metadata": {},
     "output_type": "display_data"
    },
    {
     "data": {
      "text/plain": [
       "<Figure size 432x288 with 0 Axes>"
      ]
     },
     "metadata": {},
     "output_type": "display_data"
    },
    {
     "data": {
      "image/png": "[encoded data removed]",
      "text/plain": [
       "<Figure size 1080x360 with 1 Axes>"
      ]
     },
     "metadata": {},
     "output_type": "display_data"
    }
   ],
   "source": [
    "missing_thresold = 40\n",
    "missings = helpers.missing_data(df, missing_thresold)"
   ]
  },
  {
   "cell_type": "markdown",
   "metadata": {},
   "source": [
    "Weight and medical_speciality has at least 40% NaNs"
   ]
  },
  {
   "cell_type": "markdown",
   "metadata": {},
   "source": [
    "### 2.3.2 Missing rows"
   ]
  },
  {
   "cell_type": "code",
   "execution_count": 119,
   "metadata": {},
   "outputs": [
    {
     "data": {
      "image/png": "[encoded data removed]",
      "text/plain": [
       "<Figure size 432x288 with 1 Axes>"
      ]
     },
     "metadata": {},
     "output_type": "display_data"
    },
    {
     "data": {
      "text/html": [
       "<div>\n",
       "<style scoped>\n",
       "    .dataframe tbody tr th:only-of-type {\n",
       "        vertical-align: middle;\n",
       "    }\n",
       "\n",
       "    .dataframe tbody tr th {\n",
       "        vertical-align: top;\n",
       "    }\n",
       "\n",
       "    .dataframe thead th {\n",
       "        text-align: right;\n",
       "    }\n",
       "</style>\n",
       "<table border=\"1\" class=\"dataframe\">\n",
       "  <thead>\n",
       "    <tr style=\"text-align: right;\">\n",
       "      <th></th>\n",
       "      <th>count</th>\n",
       "      <th>weight</th>\n",
       "      <th>cumsum</th>\n",
       "    </tr>\n",
       "  </thead>\n",
       "  <tbody>\n",
       "    <tr>\n",
       "      <th>[0, 1)</th>\n",
       "      <td>1043</td>\n",
       "      <td>0.010249</td>\n",
       "      <td>0.010249</td>\n",
       "    </tr>\n",
       "    <tr>\n",
       "      <th>[1, 2)</th>\n",
       "      <td>0</td>\n",
       "      <td>0.000000</td>\n",
       "      <td>0.010249</td>\n",
       "    </tr>\n",
       "    <tr>\n",
       "      <th>[2, 3)</th>\n",
       "      <td>27449</td>\n",
       "      <td>0.269727</td>\n",
       "      <td>0.279976</td>\n",
       "    </tr>\n",
       "    <tr>\n",
       "      <th>[3, 4)</th>\n",
       "      <td>0</td>\n",
       "      <td>0.000000</td>\n",
       "      <td>0.279976</td>\n",
       "    </tr>\n",
       "    <tr>\n",
       "      <th>[4, 5)</th>\n",
       "      <td>55042</td>\n",
       "      <td>0.540868</td>\n",
       "      <td>0.820844</td>\n",
       "    </tr>\n",
       "    <tr>\n",
       "      <th>[5, 6)</th>\n",
       "      <td>0</td>\n",
       "      <td>0.000000</td>\n",
       "      <td>0.820844</td>\n",
       "    </tr>\n",
       "    <tr>\n",
       "      <th>[6, 7)</th>\n",
       "      <td>17640</td>\n",
       "      <td>0.173339</td>\n",
       "      <td>0.994183</td>\n",
       "    </tr>\n",
       "    <tr>\n",
       "      <th>[7, 8)</th>\n",
       "      <td>0</td>\n",
       "      <td>0.000000</td>\n",
       "      <td>0.994183</td>\n",
       "    </tr>\n",
       "    <tr>\n",
       "      <th>[8, 10)</th>\n",
       "      <td>564</td>\n",
       "      <td>0.005542</td>\n",
       "      <td>0.999725</td>\n",
       "    </tr>\n",
       "    <tr>\n",
       "      <th>[10, 15)</th>\n",
       "      <td>28</td>\n",
       "      <td>0.000275</td>\n",
       "      <td>1.000000</td>\n",
       "    </tr>\n",
       "    <tr>\n",
       "      <th>[15, 20)</th>\n",
       "      <td>0</td>\n",
       "      <td>0.000000</td>\n",
       "      <td>1.000000</td>\n",
       "    </tr>\n",
       "    <tr>\n",
       "      <th>[20, 30)</th>\n",
       "      <td>0</td>\n",
       "      <td>0.000000</td>\n",
       "      <td>1.000000</td>\n",
       "    </tr>\n",
       "    <tr>\n",
       "      <th>[30, 50)</th>\n",
       "      <td>0</td>\n",
       "      <td>0.000000</td>\n",
       "      <td>1.000000</td>\n",
       "    </tr>\n",
       "    <tr>\n",
       "      <th>[50, 80)</th>\n",
       "      <td>0</td>\n",
       "      <td>0.000000</td>\n",
       "      <td>1.000000</td>\n",
       "    </tr>\n",
       "  </tbody>\n",
       "</table>\n",
       "</div>"
      ],
      "text/plain": [
       "          count    weight    cumsum\n",
       "[0, 1)     1043  0.010249  0.010249\n",
       "[1, 2)        0  0.000000  0.010249\n",
       "[2, 3)    27449  0.269727  0.279976\n",
       "[3, 4)        0  0.000000  0.279976\n",
       "[4, 5)    55042  0.540868  0.820844\n",
       "[5, 6)        0  0.000000  0.820844\n",
       "[6, 7)    17640  0.173339  0.994183\n",
       "[7, 8)        0  0.000000  0.994183\n",
       "[8, 10)     564  0.005542  0.999725\n",
       "[10, 15)     28  0.000275  1.000000\n",
       "[15, 20)      0  0.000000  1.000000\n",
       "[20, 30)      0  0.000000  1.000000\n",
       "[30, 50)      0  0.000000  1.000000\n",
       "[50, 80)      0  0.000000  1.000000"
      ]
     },
     "execution_count": 119,
     "metadata": {},
     "output_type": "execute_result"
    }
   ],
   "source": [
    "missings = (\n",
    "    df.isnull().sum(axis=1) / len(df.columns) * 100).sort_values(\n",
    "        ascending=False)\n",
    "plt.hist(missings[missings >= 0], bins=40)\n",
    "plt.xlabel('Percentage of missing value (%)')\n",
    "plt.ylabel('Counts')\n",
    "plt.title('Histogram of missing value counts in rows')\n",
    "plt.show()\n",
    "#\n",
    "bins = pd.cut(\n",
    "    missings, [0, 1, 2, 3, 4, 5, 6, 7, 8, 10, 15, 20, 30, 50, 80], right=False)\n",
    "agg = pd.DataFrame(\n",
    "    missings, columns=['missings']).groupby(bins)['missings'].agg(['count'])\n",
    "agg['weight'] = agg['count'] / len(missings)\n",
    "agg['cumsum'] = agg['weight'].cumsum()\n",
    "agg"
   ]
  },
  {
   "cell_type": "markdown",
   "metadata": {},
   "source": [
    "Distribution"
   ]
  },
  {
   "cell_type": "code",
   "execution_count": 120,
   "metadata": {},
   "outputs": [
    {
     "data": {
      "image/png": "[encoded data removed]",
      "text/plain": [
       "<Figure size 864x2520 with 85 Axes>"
      ]
     },
     "metadata": {},
     "output_type": "display_data"
    }
   ],
   "source": [
    "df_num = df.select_dtypes(include = ['float64', 'int64'])\n",
    "df_num.hist(figsize=(12, 35), bins=50, xlabelsize=5, ylabelsize=5, layout=(17,5)); # ; avoid havi"
   ]
  },
  {
   "cell_type": "code",
   "execution_count": 121,
   "metadata": {},
   "outputs": [
    {
     "data": {
      "text/plain": [
       "Index(['encounter_id', 'patient_nbr', 'admission_type_id',\n",
       "       'discharge_disposition_id', 'admission_source_id', 'time_in_hospital',\n",
       "       'num_lab_procedures', 'num_procedures', 'num_medications',\n",
       "       'number_outpatient', 'number_emergency', 'number_inpatient',\n",
       "       'number_diagnoses'],\n",
       "      dtype='object')"
      ]
     },
     "execution_count": 121,
     "metadata": {},
     "output_type": "execute_result"
    }
   ],
   "source": [
    "df_num.columns"
   ]
  },
  {
   "cell_type": "code",
   "execution_count": 122,
   "metadata": {},
   "outputs": [
    {
     "data": {
      "text/plain": [
       "1.0"
      ]
     },
     "execution_count": 122,
     "metadata": {},
     "output_type": "execute_result"
    }
   ],
   "source": [
    "len(df.encounter_id.unique())/len(df)"
   ]
  },
  {
   "cell_type": "markdown",
   "metadata": {},
   "source": [
    "\n",
    "\n",
    "### 2.3.2. Outliers <a class=\"anchor\" id=\"Outliers\"></a>"
   ]
  },
  {
   "cell_type": "code",
   "execution_count": 123,
   "metadata": {
    "scrolled": false
   },
   "outputs": [
    {
     "data": {
      "text/plain": [
       "<AxesSubplot:>"
      ]
     },
     "execution_count": 123,
     "metadata": {},
     "output_type": "execute_result"
    },
    {
     "data": {
      "image/png": "[encoded data removed]",
      "text/plain": [
       "<Figure size 864x864 with 1 Axes>"
      ]
     },
     "metadata": {},
     "output_type": "display_data"
    }
   ],
   "source": [
    "num_cols =['time_in_hospital',\n",
    "       'num_lab_procedures', 'num_procedures', 'num_medications',\n",
    "       'number_outpatient', 'number_emergency', 'number_inpatient',\n",
    "       'number_diagnoses']\n",
    "df.boxplot(column=num_cols, figsize=(12, 12))"
   ]
  },
  {
   "cell_type": "code",
   "execution_count": 124,
   "metadata": {},
   "outputs": [],
   "source": [
    "# get outliers\n",
    "def get_outliers(df, columns, left = 1.5, right = 1.5):\n",
    "    \"\"\"\n",
    "    Outliers of columns\n",
    "    INPUT: df - DataFrame to Process\n",
    "           col - Col to process\n",
    "    OUTPUT:\n",
    "           outliers\n",
    "    \"\"\"\n",
    "    Q1 = df[columns].quantile(0.25)\n",
    "    Q3 = df[columns].quantile(0.75)\n",
    "    IQR = Q3 - Q1\n",
    "    outliers = df[((df[columns] < (Q1 - left * IQR)) |\n",
    "                               (df[columns] > (Q3 + right * IQR)))]\n",
    "    return outliers[columns]"
   ]
  },
  {
   "cell_type": "code",
   "execution_count": 125,
   "metadata": {},
   "outputs": [
    {
     "data": {
      "image/png": "[encoded data removed]",
      "text/plain": [
       "<Figure size 864x2520 with 85 Axes>"
      ]
     },
     "metadata": {},
     "output_type": "display_data"
    }
   ],
   "source": [
    "df_out = get_outliers(df, num_cols)\n",
    "df_out.hist(figsize=(12, 35), bins=50, xlabelsize=5, ylabelsize=5, layout=(17,5)); # ; avoid havi"
   ]
  },
  {
   "cell_type": "code",
   "execution_count": 126,
   "metadata": {},
   "outputs": [
    {
     "data": {
      "text/plain": [
       "time_in_hospital      0.022129\n",
       "num_lab_procedures    0.001405\n",
       "num_procedures        0.048680\n",
       "num_medications       0.025126\n",
       "number_outpatient     0.164485\n",
       "number_emergency      0.111855\n",
       "number_inpatient      0.069267\n",
       "number_diagnoses      0.002761\n",
       "dtype: float64"
      ]
     },
     "execution_count": 126,
     "metadata": {},
     "output_type": "execute_result"
    }
   ],
   "source": [
    "1-df_out.isnull().sum()/len(df)"
   ]
  },
  {
   "cell_type": "code",
   "execution_count": 127,
   "metadata": {},
   "outputs": [
    {
     "data": {
      "text/plain": [
       "188697"
      ]
     },
     "execution_count": 127,
     "metadata": {},
     "output_type": "execute_result"
    }
   ],
   "source": [
    "del df_num\n",
    "del df_out\n",
    "gc.collect()"
   ]
  },
  {
   "cell_type": "markdown",
   "metadata": {},
   "source": [
    "# 3. Data Preparation <a class=\"anchor\" id=\"Datapreperation\"></a>"
   ]
  },
  {
   "cell_type": "markdown",
   "metadata": {},
   "source": [
    "## 3.1 Altering Data Types <a class=\"anchor\" id=\"AlteringDatatypes\"></a>"
   ]
  },
  {
   "cell_type": "code",
   "execution_count": 128,
   "metadata": {},
   "outputs": [],
   "source": [
    "columns_num_to_obj = ['admission_type_id','discharge_disposition_id', 'admission_source_id' ]\n",
    "df[columns_num_to_obj] = df[columns_num_to_obj].astype('O')"
   ]
  },
  {
   "cell_type": "markdown",
   "metadata": {},
   "source": [
    "## 3.2 Saving modeled data"
   ]
  },
  {
   "cell_type": "code",
   "execution_count": 129,
   "metadata": {},
   "outputs": [],
   "source": [
    "df_dtypes = df.dtypes.to_frame('dtypes')\n",
    "df_dtypes = df_dtypes.astype(str)\n",
    "df.to_parquet(BASE_PATH + 'data/modeled/df_modeled.parquet.gzip', compression='gzip') \n",
    "df_dtypes.to_parquet(BASE_PATH + 'data/modeled/df_modeled_dtypes.parquet.gzip', compression='gzip') "
   ]
  },
  {
   "cell_type": "markdown",
   "metadata": {},
   "source": [
    "## 3.3 Drop Unnecessary Columns <a class=\"anchor\" id=\"DropCols\"></a>"
   ]
  },
  {
   "cell_type": "markdown",
   "metadata": {},
   "source": [
    "#### Reading modeled data"
   ]
  },
  {
   "cell_type": "code",
   "execution_count": 130,
   "metadata": {},
   "outputs": [],
   "source": [
    "df=pd.read_parquet(BASE_PATH + 'data/modeled/df_modeled.parquet.gzip')\n",
    "dtypes=pd.read_parquet(BASE_PATH + 'data/modeled/df_modeled_dtypes.parquet.gzip')\n",
    "df = df.astype(dtypes.to_dict()['dtypes'])"
   ]
  },
  {
   "cell_type": "markdown",
   "metadata": {},
   "source": [
    "#### Analysing and droping columns with high level of missings"
   ]
  },
  {
   "cell_type": "code",
   "execution_count": 131,
   "metadata": {
    "scrolled": false
   },
   "outputs": [
    {
     "data": {
      "text/plain": [
       "0               weight\n",
       "1    medical_specialty\n",
       "Name: Feature, dtype: object"
      ]
     },
     "metadata": {},
     "output_type": "display_data"
    },
    {
     "data": {
      "text/plain": [
       "0               weight\n",
       "1    medical_specialty\n",
       "Name: Feature, dtype: object"
      ]
     },
     "metadata": {},
     "output_type": "display_data"
    },
    {
     "data": {
      "text/plain": [
       "<Figure size 432x288 with 0 Axes>"
      ]
     },
     "metadata": {},
     "output_type": "display_data"
    },
    {
     "data": {
      "image/png": "[encoded data removed]",
      "text/plain": [
       "<Figure size 1080x360 with 1 Axes>"
      ]
     },
     "metadata": {},
     "output_type": "display_data"
    }
   ],
   "source": [
    "missing_thresold = 40\n",
    "missings = helpers.missing_data(df, missing_thresold);\n",
    "helpers.drop_missings(df, missings, missing_thresold)"
   ]
  },
  {
   "cell_type": "code",
   "execution_count": 132,
   "metadata": {},
   "outputs": [],
   "source": [
    "df.drop([\"encounter_id\", \"patient_nbr\", \"examide\", \"citoglipton\"], axis=1, inplace=True)"
   ]
  },
  {
   "cell_type": "markdown",
   "metadata": {},
   "source": [
    "## 3.4 Outliers treatment"
   ]
  },
  {
   "cell_type": "code",
   "execution_count": 133,
   "metadata": {},
   "outputs": [],
   "source": [
    "def removing_outliers(df, columns):\n",
    "    \"\"\"\n",
    "    Remove outliers of columns\n",
    "    INPUT: df - DataFrame to Process\n",
    "           col - Col to process\n",
    "    OUTPUT:\n",
    "            df proceseed\n",
    "    \"\"\"\n",
    "    Q1 = df[columns].quantile(0.25)\n",
    "    Q3 = df[columns].quantile(0.75)\n",
    "    IQR = Q3 - Q1\n",
    "    df_without_outliers = df[~((df[columns] < (Q1 - 1.5 * IQR)) |\n",
    "                               (df[columns] > (Q3 + 1.5 * IQR))).any(axis=1)]\n",
    "    return df_without_outliers\n",
    "\n",
    "num_cols = ['time_in_hospital', 'num_lab_procedures', 'num_medications', 'number_diagnoses']\n",
    "#df = removing_outliers(df, num_cols)"
   ]
  },
  {
   "cell_type": "markdown",
   "metadata": {},
   "source": [
    "Log normalization"
   ]
  },
  {
   "cell_type": "code",
   "execution_count": 134,
   "metadata": {},
   "outputs": [],
   "source": [
    "for col in num_cols:\n",
    "    df[col] = np.log(df[col])"
   ]
  },
  {
   "cell_type": "markdown",
   "metadata": {},
   "source": [
    "## 3.5 Dealing With NaNs <a class=\"anchor\" id=\"DealingZeros\"></a>"
   ]
  },
  {
   "cell_type": "code",
   "execution_count": 135,
   "metadata": {
    "scrolled": true
   },
   "outputs": [
    {
     "name": "stdout",
     "output_type": "stream",
     "text": [
      "Percentage of data if drop all NaN 41.90%\n"
     ]
    }
   ],
   "source": [
    "print(\"Percentage of data if drop all NaN {0:.2f}%\".format(\n",
    "    100 - len(df.dropna()) / len(df) * 100))"
   ]
  },
  {
   "cell_type": "code",
   "execution_count": 136,
   "metadata": {},
   "outputs": [
    {
     "data": {
      "text/plain": [
       "race                         2273\n",
       "gender                          0\n",
       "age                             0\n",
       "admission_type_id               0\n",
       "discharge_disposition_id        0\n",
       "admission_source_id             0\n",
       "time_in_hospital                0\n",
       "payer_code                  40256\n",
       "num_lab_procedures              0\n",
       "num_procedures                  0\n",
       "num_medications                 0\n",
       "number_outpatient               0\n",
       "number_emergency                0\n",
       "number_inpatient                0\n",
       "diag_1                         21\n",
       "diag_2                        358\n",
       "diag_3                       1423\n",
       "number_diagnoses                0\n",
       "max_glu_serum                   0\n",
       "A1Cresult                       0\n",
       "metformin                       0\n",
       "repaglinide                     0\n",
       "nateglinide                     0\n",
       "chlorpropamide                  0\n",
       "glimepiride                     0\n",
       "acetohexamide                   0\n",
       "glipizide                       0\n",
       "glyburide                       0\n",
       "tolbutamide                     0\n",
       "pioglitazone                    0\n",
       "rosiglitazone                   0\n",
       "acarbose                        0\n",
       "miglitol                        0\n",
       "troglitazone                    0\n",
       "tolazamide                      0\n",
       "insulin                         0\n",
       "glyburide-metformin             0\n",
       "glipizide-metformin             0\n",
       "glimepiride-pioglitazone        0\n",
       "metformin-rosiglitazone         0\n",
       "metformin-pioglitazone          0\n",
       "change                          0\n",
       "diabetesMed                     0\n",
       "readmitted                      0\n",
       "dtype: int64"
      ]
     },
     "execution_count": 136,
     "metadata": {},
     "output_type": "execute_result"
    }
   ],
   "source": [
    "df.isnull().sum()"
   ]
  },
  {
   "cell_type": "code",
   "execution_count": 137,
   "metadata": {},
   "outputs": [],
   "source": [
    "#Inputing NaN value with a NaN numerical code as models uses numbers for both numerical and categorical features\n",
    "df.fillna('-100', inplace = True, downcast=True) "
   ]
  },
  {
   "cell_type": "code",
   "execution_count": 138,
   "metadata": {},
   "outputs": [
    {
     "name": "stdout",
     "output_type": "stream",
     "text": [
      "Percentage of data if drop all NaN 0.00%\n"
     ]
    }
   ],
   "source": [
    "print(\"Percentage of data if drop all NaN {0:.2f}%\".format(\n",
    "    100 - len(df.dropna()) / len(df) * 100))"
   ]
  },
  {
   "cell_type": "markdown",
   "metadata": {},
   "source": [
    "## 3.6 Saving data transformed"
   ]
  },
  {
   "cell_type": "code",
   "execution_count": 139,
   "metadata": {},
   "outputs": [],
   "source": [
    "df_dtypes = df.dtypes.to_frame('dtypes')\n",
    "df_dtypes = df_dtypes.astype(str)\n",
    "df.to_parquet(BASE_PATH + 'data/transformed/df_transformed.parquet.gzip', compression='gzip') \n",
    "df_dtypes.to_parquet(BASE_PATH + 'data/transformed/df_transformed_dtypes.parquet.gzip', compression='gzip') "
   ]
  },
  {
   "cell_type": "markdown",
   "metadata": {},
   "source": [
    "# 4. Features Engineering"
   ]
  },
  {
   "cell_type": "markdown",
   "metadata": {},
   "source": [
    "## 4.1 New features"
   ]
  },
  {
   "cell_type": "markdown",
   "metadata": {},
   "source": [
    "I will focus on features: medical specialty and diag_n as both has a high number of categories. However, due to high level of NaN of medical specialty it was removed. So I will focus to diag_n"
   ]
  },
  {
   "cell_type": "markdown",
   "metadata": {},
   "source": [
    "I will start with a simple approach, just combine the diags and pickups the more relevants. Also I could group by them by category but for time restriction I go ahead for a faster approach"
   ]
  },
  {
   "cell_type": "markdown",
   "metadata": {},
   "source": [
    "### Loading data transformed"
   ]
  },
  {
   "cell_type": "code",
   "execution_count": 140,
   "metadata": {},
   "outputs": [],
   "source": [
    "df=pd.read_parquet(BASE_PATH + 'data/transformed/df_transformed.parquet.gzip')\n",
    "dtypes=pd.read_parquet(BASE_PATH + 'data/transformed/df_transformed_dtypes.parquet.gzip')\n",
    "df = df.astype(dtypes.to_dict()['dtypes'])"
   ]
  },
  {
   "cell_type": "markdown",
   "metadata": {},
   "source": [
    "### Diag feature treatment"
   ]
  },
  {
   "cell_type": "code",
   "execution_count": 141,
   "metadata": {},
   "outputs": [
    {
     "data": {
      "text/html": [
       "<div>\n",
       "<style scoped>\n",
       "    .dataframe tbody tr th:only-of-type {\n",
       "        vertical-align: middle;\n",
       "    }\n",
       "\n",
       "    .dataframe tbody tr th {\n",
       "        vertical-align: top;\n",
       "    }\n",
       "\n",
       "    .dataframe thead th {\n",
       "        text-align: right;\n",
       "    }\n",
       "</style>\n",
       "<table border=\"1\" class=\"dataframe\">\n",
       "  <thead>\n",
       "    <tr style=\"text-align: right;\">\n",
       "      <th></th>\n",
       "      <th>% code vs diags</th>\n",
       "    </tr>\n",
       "  </thead>\n",
       "  <tbody>\n",
       "    <tr>\n",
       "      <th>428</th>\n",
       "      <td>0.202288</td>\n",
       "    </tr>\n",
       "    <tr>\n",
       "      <th>414</th>\n",
       "      <td>0.194004</td>\n",
       "    </tr>\n",
       "    <tr>\n",
       "      <th>786</th>\n",
       "      <td>0.118389</td>\n",
       "    </tr>\n",
       "    <tr>\n",
       "      <th>410</th>\n",
       "      <td>0.106539</td>\n",
       "    </tr>\n",
       "    <tr>\n",
       "      <th>486</th>\n",
       "      <td>0.103414</td>\n",
       "    </tr>\n",
       "    <tr>\n",
       "      <th>427</th>\n",
       "      <td>0.081540</td>\n",
       "    </tr>\n",
       "    <tr>\n",
       "      <th>491</th>\n",
       "      <td>0.067066</td>\n",
       "    </tr>\n",
       "    <tr>\n",
       "      <th>715</th>\n",
       "      <td>0.063410</td>\n",
       "    </tr>\n",
       "    <tr>\n",
       "      <th>682</th>\n",
       "      <td>0.060197</td>\n",
       "    </tr>\n",
       "    <tr>\n",
       "      <th>434</th>\n",
       "      <td>0.059784</td>\n",
       "    </tr>\n",
       "    <tr>\n",
       "      <th>780</th>\n",
       "      <td>0.059519</td>\n",
       "    </tr>\n",
       "    <tr>\n",
       "      <th>996</th>\n",
       "      <td>0.057986</td>\n",
       "    </tr>\n",
       "    <tr>\n",
       "      <th>276</th>\n",
       "      <td>0.055687</td>\n",
       "    </tr>\n",
       "    <tr>\n",
       "      <th>38</th>\n",
       "      <td>0.049761</td>\n",
       "    </tr>\n",
       "    <tr>\n",
       "      <th>250.8</th>\n",
       "      <td>0.049525</td>\n",
       "    </tr>\n",
       "    <tr>\n",
       "      <th>599</th>\n",
       "      <td>0.047020</td>\n",
       "    </tr>\n",
       "    <tr>\n",
       "      <th>584</th>\n",
       "      <td>0.044809</td>\n",
       "    </tr>\n",
       "    <tr>\n",
       "      <th>V57</th>\n",
       "      <td>0.035582</td>\n",
       "    </tr>\n",
       "    <tr>\n",
       "      <th>250.6</th>\n",
       "      <td>0.034874</td>\n",
       "    </tr>\n",
       "    <tr>\n",
       "      <th>518</th>\n",
       "      <td>0.032870</td>\n",
       "    </tr>\n",
       "    <tr>\n",
       "      <th>820</th>\n",
       "      <td>0.031897</td>\n",
       "    </tr>\n",
       "    <tr>\n",
       "      <th>577</th>\n",
       "      <td>0.031160</td>\n",
       "    </tr>\n",
       "    <tr>\n",
       "      <th>493</th>\n",
       "      <td>0.031130</td>\n",
       "    </tr>\n",
       "    <tr>\n",
       "      <th>435</th>\n",
       "      <td>0.029951</td>\n",
       "    </tr>\n",
       "    <tr>\n",
       "      <th>562</th>\n",
       "      <td>0.029155</td>\n",
       "    </tr>\n",
       "    <tr>\n",
       "      <th>574</th>\n",
       "      <td>0.028448</td>\n",
       "    </tr>\n",
       "    <tr>\n",
       "      <th>296</th>\n",
       "      <td>0.026414</td>\n",
       "    </tr>\n",
       "    <tr>\n",
       "      <th>560</th>\n",
       "      <td>0.025824</td>\n",
       "    </tr>\n",
       "    <tr>\n",
       "      <th>250.7</th>\n",
       "      <td>0.025677</td>\n",
       "    </tr>\n",
       "    <tr>\n",
       "      <th>250.13</th>\n",
       "      <td>0.025087</td>\n",
       "    </tr>\n",
       "    <tr>\n",
       "      <th>440</th>\n",
       "      <td>0.024763</td>\n",
       "    </tr>\n",
       "    <tr>\n",
       "      <th>433</th>\n",
       "      <td>0.023259</td>\n",
       "    </tr>\n",
       "    <tr>\n",
       "      <th>998</th>\n",
       "      <td>0.023112</td>\n",
       "    </tr>\n",
       "    <tr>\n",
       "      <th>722</th>\n",
       "      <td>0.022729</td>\n",
       "    </tr>\n",
       "    <tr>\n",
       "      <th>250.02</th>\n",
       "      <td>0.019899</td>\n",
       "    </tr>\n",
       "    <tr>\n",
       "      <th>578</th>\n",
       "      <td>0.019545</td>\n",
       "    </tr>\n",
       "    <tr>\n",
       "      <th>250.11</th>\n",
       "      <td>0.018425</td>\n",
       "    </tr>\n",
       "    <tr>\n",
       "      <th>507</th>\n",
       "      <td>0.017982</td>\n",
       "    </tr>\n",
       "    <tr>\n",
       "      <th>789</th>\n",
       "      <td>0.016538</td>\n",
       "    </tr>\n",
       "    <tr>\n",
       "      <th>453</th>\n",
       "      <td>0.016096</td>\n",
       "    </tr>\n",
       "  </tbody>\n",
       "</table>\n",
       "</div>"
      ],
      "text/plain": [
       "        % code vs diags\n",
       "428            0.202288\n",
       "414            0.194004\n",
       "786            0.118389\n",
       "410            0.106539\n",
       "486            0.103414\n",
       "427            0.081540\n",
       "491            0.067066\n",
       "715            0.063410\n",
       "682            0.060197\n",
       "434            0.059784\n",
       "780            0.059519\n",
       "996            0.057986\n",
       "276            0.055687\n",
       "38             0.049761\n",
       "250.8          0.049525\n",
       "599            0.047020\n",
       "584            0.044809\n",
       "V57            0.035582\n",
       "250.6          0.034874\n",
       "518            0.032870\n",
       "820            0.031897\n",
       "577            0.031160\n",
       "493            0.031130\n",
       "435            0.029951\n",
       "562            0.029155\n",
       "574            0.028448\n",
       "296            0.026414\n",
       "560            0.025824\n",
       "250.7          0.025677\n",
       "250.13         0.025087\n",
       "440            0.024763\n",
       "433            0.023259\n",
       "998            0.023112\n",
       "722            0.022729\n",
       "250.02         0.019899\n",
       "578            0.019545\n",
       "250.11         0.018425\n",
       "507            0.017982\n",
       "789            0.016538\n",
       "453            0.016096"
      ]
     },
     "execution_count": 141,
     "metadata": {},
     "output_type": "execute_result"
    }
   ],
   "source": [
    "diag_conbine = (df['diag_1'].value_counts() + df['diag_1'].value_counts() + df['diag_1'].value_counts()).sort_values(ascending=False)/len(df)\n",
    "diag_conbine.head(40).to_frame('% code vs diags')"
   ]
  },
  {
   "cell_type": "markdown",
   "metadata": {},
   "source": [
    "Below top 40 the code diag start to apper just below 1% of total counts. So it appers to be a good threasold. It is huge better than near 800 categories that it has before"
   ]
  },
  {
   "cell_type": "code",
   "execution_count": 142,
   "metadata": {},
   "outputs": [],
   "source": [
    "thresold_top_diags = 40\n",
    "codes = diag_conbine.head(thresold_top_diags).to_frame('% code vs diags').index.to_list()\n",
    "for code in codes:\n",
    "    df['diag_'+ str(code)] = (df['diag_1'] == code)|(df['diag_2'] == code)|(df['diag_3'] == code)"
   ]
  },
  {
   "cell_type": "markdown",
   "metadata": {},
   "source": [
    "## 4.2 Recoding"
   ]
  },
  {
   "cell_type": "code",
   "execution_count": 143,
   "metadata": {},
   "outputs": [],
   "source": [
    "diag_list = ['diag_1','diag_2','diag_3']\n",
    "\n",
    "    \n",
    "def transformFunc(value):\n",
    "    value = re.sub(\"V[0-9]*\", \"0\", value) # V \n",
    "    value = re.sub(\"E[0-9]*\", \"0\", value) # E \n",
    "    value = re.sub('NaN', \"-1\", value) # Nan \n",
    "    return value\n",
    "\n",
    "def transformCategory(value):\n",
    "    if value>=390 and value<=459 or value==785:\n",
    "        category = 'Circulatory'\n",
    "    elif value>=460 and value<=519 or value==786:\n",
    "        category = 'Respiratory'\n",
    "    elif value>=520 and value<=579 or value==787:\n",
    "        category = 'Digestive'\n",
    "    elif value==250:\n",
    "        category = 'Diabetes'\n",
    "    elif value>=800 and value<=999:\n",
    "        category = 'Injury'          \n",
    "    elif value>=710 and value<=739:\n",
    "        category = 'Musculoskeletal'   \n",
    "    elif value>=580 and value<=629 or value==788:\n",
    "        category = 'Genitourinary'\n",
    "    elif value>=140 and value<=239 :\n",
    "        category = 'Neoplasms'\n",
    "    elif value==-1:\n",
    "        category = 'NAN'\n",
    "    else :\n",
    "        category = 'Other'\n",
    "\n",
    "    return category\n",
    "\n",
    "for col in diag_list:\n",
    "    df[col] = df[col].apply(transformFunc)\n",
    "    df[col] = df[col].astype(float)\n",
    "    \n",
    "for col in diag_list:\n",
    "    df[col] = df[col].apply(transformCategory)"
   ]
  },
  {
   "cell_type": "code",
   "execution_count": 144,
   "metadata": {},
   "outputs": [],
   "source": [
    "#df.drop([\"diag_1\", \"diag_2\", \"diag_3\"], axis=1, inplace=True)\n",
    "#Inputing NaN value with a NaN numerical code as models uses numbers for both numerical and categorical features\n",
    "df.fillna('-100', inplace = True, downcast=True) "
   ]
  },
  {
   "cell_type": "markdown",
   "metadata": {},
   "source": [
    "## 4.3 Dummies creation"
   ]
  },
  {
   "cell_type": "code",
   "execution_count": 145,
   "metadata": {},
   "outputs": [
    {
     "data": {
      "text/html": [
       "<div>\n",
       "<style scoped>\n",
       "    .dataframe tbody tr th:only-of-type {\n",
       "        vertical-align: middle;\n",
       "    }\n",
       "\n",
       "    .dataframe tbody tr th {\n",
       "        vertical-align: top;\n",
       "    }\n",
       "\n",
       "    .dataframe thead th {\n",
       "        text-align: right;\n",
       "    }\n",
       "</style>\n",
       "<table border=\"1\" class=\"dataframe\">\n",
       "  <thead>\n",
       "    <tr style=\"text-align: right;\">\n",
       "      <th></th>\n",
       "      <th>discharge_disposition_id_1</th>\n",
       "      <th>discharge_disposition_id_2</th>\n",
       "      <th>discharge_disposition_id_3</th>\n",
       "      <th>discharge_disposition_id_4</th>\n",
       "      <th>discharge_disposition_id_5</th>\n",
       "      <th>discharge_disposition_id_6</th>\n",
       "      <th>discharge_disposition_id_7</th>\n",
       "      <th>discharge_disposition_id_8</th>\n",
       "      <th>discharge_disposition_id_9</th>\n",
       "      <th>discharge_disposition_id_10</th>\n",
       "      <th>...</th>\n",
       "      <th>discharge_disposition_id_17</th>\n",
       "      <th>discharge_disposition_id_18</th>\n",
       "      <th>discharge_disposition_id_19</th>\n",
       "      <th>discharge_disposition_id_20</th>\n",
       "      <th>discharge_disposition_id_22</th>\n",
       "      <th>discharge_disposition_id_23</th>\n",
       "      <th>discharge_disposition_id_24</th>\n",
       "      <th>discharge_disposition_id_25</th>\n",
       "      <th>discharge_disposition_id_27</th>\n",
       "      <th>discharge_disposition_id_28</th>\n",
       "    </tr>\n",
       "  </thead>\n",
       "  <tbody>\n",
       "    <tr>\n",
       "      <th>47932</th>\n",
       "      <td>1</td>\n",
       "      <td>0</td>\n",
       "      <td>0</td>\n",
       "      <td>0</td>\n",
       "      <td>0</td>\n",
       "      <td>0</td>\n",
       "      <td>0</td>\n",
       "      <td>0</td>\n",
       "      <td>0</td>\n",
       "      <td>0</td>\n",
       "      <td>...</td>\n",
       "      <td>0</td>\n",
       "      <td>0</td>\n",
       "      <td>0</td>\n",
       "      <td>0</td>\n",
       "      <td>0</td>\n",
       "      <td>0</td>\n",
       "      <td>0</td>\n",
       "      <td>0</td>\n",
       "      <td>0</td>\n",
       "      <td>0</td>\n",
       "    </tr>\n",
       "    <tr>\n",
       "      <th>27100</th>\n",
       "      <td>0</td>\n",
       "      <td>0</td>\n",
       "      <td>0</td>\n",
       "      <td>0</td>\n",
       "      <td>1</td>\n",
       "      <td>0</td>\n",
       "      <td>0</td>\n",
       "      <td>0</td>\n",
       "      <td>0</td>\n",
       "      <td>0</td>\n",
       "      <td>...</td>\n",
       "      <td>0</td>\n",
       "      <td>0</td>\n",
       "      <td>0</td>\n",
       "      <td>0</td>\n",
       "      <td>0</td>\n",
       "      <td>0</td>\n",
       "      <td>0</td>\n",
       "      <td>0</td>\n",
       "      <td>0</td>\n",
       "      <td>0</td>\n",
       "    </tr>\n",
       "    <tr>\n",
       "      <th>54318</th>\n",
       "      <td>0</td>\n",
       "      <td>0</td>\n",
       "      <td>1</td>\n",
       "      <td>0</td>\n",
       "      <td>0</td>\n",
       "      <td>0</td>\n",
       "      <td>0</td>\n",
       "      <td>0</td>\n",
       "      <td>0</td>\n",
       "      <td>0</td>\n",
       "      <td>...</td>\n",
       "      <td>0</td>\n",
       "      <td>0</td>\n",
       "      <td>0</td>\n",
       "      <td>0</td>\n",
       "      <td>0</td>\n",
       "      <td>0</td>\n",
       "      <td>0</td>\n",
       "      <td>0</td>\n",
       "      <td>0</td>\n",
       "      <td>0</td>\n",
       "    </tr>\n",
       "    <tr>\n",
       "      <th>37628</th>\n",
       "      <td>1</td>\n",
       "      <td>0</td>\n",
       "      <td>0</td>\n",
       "      <td>0</td>\n",
       "      <td>0</td>\n",
       "      <td>0</td>\n",
       "      <td>0</td>\n",
       "      <td>0</td>\n",
       "      <td>0</td>\n",
       "      <td>0</td>\n",
       "      <td>...</td>\n",
       "      <td>0</td>\n",
       "      <td>0</td>\n",
       "      <td>0</td>\n",
       "      <td>0</td>\n",
       "      <td>0</td>\n",
       "      <td>0</td>\n",
       "      <td>0</td>\n",
       "      <td>0</td>\n",
       "      <td>0</td>\n",
       "      <td>0</td>\n",
       "    </tr>\n",
       "    <tr>\n",
       "      <th>7446</th>\n",
       "      <td>1</td>\n",
       "      <td>0</td>\n",
       "      <td>0</td>\n",
       "      <td>0</td>\n",
       "      <td>0</td>\n",
       "      <td>0</td>\n",
       "      <td>0</td>\n",
       "      <td>0</td>\n",
       "      <td>0</td>\n",
       "      <td>0</td>\n",
       "      <td>...</td>\n",
       "      <td>0</td>\n",
       "      <td>0</td>\n",
       "      <td>0</td>\n",
       "      <td>0</td>\n",
       "      <td>0</td>\n",
       "      <td>0</td>\n",
       "      <td>0</td>\n",
       "      <td>0</td>\n",
       "      <td>0</td>\n",
       "      <td>0</td>\n",
       "    </tr>\n",
       "    <tr>\n",
       "      <th>54543</th>\n",
       "      <td>1</td>\n",
       "      <td>0</td>\n",
       "      <td>0</td>\n",
       "      <td>0</td>\n",
       "      <td>0</td>\n",
       "      <td>0</td>\n",
       "      <td>0</td>\n",
       "      <td>0</td>\n",
       "      <td>0</td>\n",
       "      <td>0</td>\n",
       "      <td>...</td>\n",
       "      <td>0</td>\n",
       "      <td>0</td>\n",
       "      <td>0</td>\n",
       "      <td>0</td>\n",
       "      <td>0</td>\n",
       "      <td>0</td>\n",
       "      <td>0</td>\n",
       "      <td>0</td>\n",
       "      <td>0</td>\n",
       "      <td>0</td>\n",
       "    </tr>\n",
       "    <tr>\n",
       "      <th>31437</th>\n",
       "      <td>0</td>\n",
       "      <td>0</td>\n",
       "      <td>1</td>\n",
       "      <td>0</td>\n",
       "      <td>0</td>\n",
       "      <td>0</td>\n",
       "      <td>0</td>\n",
       "      <td>0</td>\n",
       "      <td>0</td>\n",
       "      <td>0</td>\n",
       "      <td>...</td>\n",
       "      <td>0</td>\n",
       "      <td>0</td>\n",
       "      <td>0</td>\n",
       "      <td>0</td>\n",
       "      <td>0</td>\n",
       "      <td>0</td>\n",
       "      <td>0</td>\n",
       "      <td>0</td>\n",
       "      <td>0</td>\n",
       "      <td>0</td>\n",
       "    </tr>\n",
       "    <tr>\n",
       "      <th>84945</th>\n",
       "      <td>1</td>\n",
       "      <td>0</td>\n",
       "      <td>0</td>\n",
       "      <td>0</td>\n",
       "      <td>0</td>\n",
       "      <td>0</td>\n",
       "      <td>0</td>\n",
       "      <td>0</td>\n",
       "      <td>0</td>\n",
       "      <td>0</td>\n",
       "      <td>...</td>\n",
       "      <td>0</td>\n",
       "      <td>0</td>\n",
       "      <td>0</td>\n",
       "      <td>0</td>\n",
       "      <td>0</td>\n",
       "      <td>0</td>\n",
       "      <td>0</td>\n",
       "      <td>0</td>\n",
       "      <td>0</td>\n",
       "      <td>0</td>\n",
       "    </tr>\n",
       "    <tr>\n",
       "      <th>29980</th>\n",
       "      <td>1</td>\n",
       "      <td>0</td>\n",
       "      <td>0</td>\n",
       "      <td>0</td>\n",
       "      <td>0</td>\n",
       "      <td>0</td>\n",
       "      <td>0</td>\n",
       "      <td>0</td>\n",
       "      <td>0</td>\n",
       "      <td>0</td>\n",
       "      <td>...</td>\n",
       "      <td>0</td>\n",
       "      <td>0</td>\n",
       "      <td>0</td>\n",
       "      <td>0</td>\n",
       "      <td>0</td>\n",
       "      <td>0</td>\n",
       "      <td>0</td>\n",
       "      <td>0</td>\n",
       "      <td>0</td>\n",
       "      <td>0</td>\n",
       "    </tr>\n",
       "    <tr>\n",
       "      <th>73677</th>\n",
       "      <td>0</td>\n",
       "      <td>0</td>\n",
       "      <td>1</td>\n",
       "      <td>0</td>\n",
       "      <td>0</td>\n",
       "      <td>0</td>\n",
       "      <td>0</td>\n",
       "      <td>0</td>\n",
       "      <td>0</td>\n",
       "      <td>0</td>\n",
       "      <td>...</td>\n",
       "      <td>0</td>\n",
       "      <td>0</td>\n",
       "      <td>0</td>\n",
       "      <td>0</td>\n",
       "      <td>0</td>\n",
       "      <td>0</td>\n",
       "      <td>0</td>\n",
       "      <td>0</td>\n",
       "      <td>0</td>\n",
       "      <td>0</td>\n",
       "    </tr>\n",
       "  </tbody>\n",
       "</table>\n",
       "<p>10 rows × 26 columns</p>\n",
       "</div>"
      ],
      "text/plain": [
       "       discharge_disposition_id_1  discharge_disposition_id_2  \\\n",
       "47932                           1                           0   \n",
       "27100                           0                           0   \n",
       "54318                           0                           0   \n",
       "37628                           1                           0   \n",
       "7446                            1                           0   \n",
       "54543                           1                           0   \n",
       "31437                           0                           0   \n",
       "84945                           1                           0   \n",
       "29980                           1                           0   \n",
       "73677                           0                           0   \n",
       "\n",
       "       discharge_disposition_id_3  discharge_disposition_id_4  \\\n",
       "47932                           0                           0   \n",
       "27100                           0                           0   \n",
       "54318                           1                           0   \n",
       "37628                           0                           0   \n",
       "7446                            0                           0   \n",
       "54543                           0                           0   \n",
       "31437                           1                           0   \n",
       "84945                           0                           0   \n",
       "29980                           0                           0   \n",
       "73677                           1                           0   \n",
       "\n",
       "       discharge_disposition_id_5  discharge_disposition_id_6  \\\n",
       "47932                           0                           0   \n",
       "27100                           1                           0   \n",
       "54318                           0                           0   \n",
       "37628                           0                           0   \n",
       "7446                            0                           0   \n",
       "54543                           0                           0   \n",
       "31437                           0                           0   \n",
       "84945                           0                           0   \n",
       "29980                           0                           0   \n",
       "73677                           0                           0   \n",
       "\n",
       "       discharge_disposition_id_7  discharge_disposition_id_8  \\\n",
       "47932                           0                           0   \n",
       "27100                           0                           0   \n",
       "54318                           0                           0   \n",
       "37628                           0                           0   \n",
       "7446                            0                           0   \n",
       "54543                           0                           0   \n",
       "31437                           0                           0   \n",
       "84945                           0                           0   \n",
       "29980                           0                           0   \n",
       "73677                           0                           0   \n",
       "\n",
       "       discharge_disposition_id_9  discharge_disposition_id_10  ...  \\\n",
       "47932                           0                            0  ...   \n",
       "27100                           0                            0  ...   \n",
       "54318                           0                            0  ...   \n",
       "37628                           0                            0  ...   \n",
       "7446                            0                            0  ...   \n",
       "54543                           0                            0  ...   \n",
       "31437                           0                            0  ...   \n",
       "84945                           0                            0  ...   \n",
       "29980                           0                            0  ...   \n",
       "73677                           0                            0  ...   \n",
       "\n",
       "       discharge_disposition_id_17  discharge_disposition_id_18  \\\n",
       "47932                            0                            0   \n",
       "27100                            0                            0   \n",
       "54318                            0                            0   \n",
       "37628                            0                            0   \n",
       "7446                             0                            0   \n",
       "54543                            0                            0   \n",
       "31437                            0                            0   \n",
       "84945                            0                            0   \n",
       "29980                            0                            0   \n",
       "73677                            0                            0   \n",
       "\n",
       "       discharge_disposition_id_19  discharge_disposition_id_20  \\\n",
       "47932                            0                            0   \n",
       "27100                            0                            0   \n",
       "54318                            0                            0   \n",
       "37628                            0                            0   \n",
       "7446                             0                            0   \n",
       "54543                            0                            0   \n",
       "31437                            0                            0   \n",
       "84945                            0                            0   \n",
       "29980                            0                            0   \n",
       "73677                            0                            0   \n",
       "\n",
       "       discharge_disposition_id_22  discharge_disposition_id_23  \\\n",
       "47932                            0                            0   \n",
       "27100                            0                            0   \n",
       "54318                            0                            0   \n",
       "37628                            0                            0   \n",
       "7446                             0                            0   \n",
       "54543                            0                            0   \n",
       "31437                            0                            0   \n",
       "84945                            0                            0   \n",
       "29980                            0                            0   \n",
       "73677                            0                            0   \n",
       "\n",
       "       discharge_disposition_id_24  discharge_disposition_id_25  \\\n",
       "47932                            0                            0   \n",
       "27100                            0                            0   \n",
       "54318                            0                            0   \n",
       "37628                            0                            0   \n",
       "7446                             0                            0   \n",
       "54543                            0                            0   \n",
       "31437                            0                            0   \n",
       "84945                            0                            0   \n",
       "29980                            0                            0   \n",
       "73677                            0                            0   \n",
       "\n",
       "       discharge_disposition_id_27  discharge_disposition_id_28  \n",
       "47932                            0                            0  \n",
       "27100                            0                            0  \n",
       "54318                            0                            0  \n",
       "37628                            0                            0  \n",
       "7446                             0                            0  \n",
       "54543                            0                            0  \n",
       "31437                            0                            0  \n",
       "84945                            0                            0  \n",
       "29980                            0                            0  \n",
       "73677                            0                            0  \n",
       "\n",
       "[10 rows x 26 columns]"
      ]
     },
     "execution_count": 145,
     "metadata": {},
     "output_type": "execute_result"
    }
   ],
   "source": [
    "df = pd.get_dummies(df, columns=df.select_dtypes(include = ['object']).columns)\n",
    "df.filter(regex='discharge_').sample(10)"
   ]
  },
  {
   "cell_type": "markdown",
   "metadata": {},
   "source": [
    "## 4..4 Target creation"
   ]
  },
  {
   "cell_type": "code",
   "execution_count": 146,
   "metadata": {},
   "outputs": [],
   "source": [
    "df[\"target\"] = df['readmitted_<30']"
   ]
  },
  {
   "cell_type": "code",
   "execution_count": 147,
   "metadata": {},
   "outputs": [],
   "source": [
    "df.drop(['readmitted_<30','readmitted_>30', 'readmitted_NO'], axis=1, inplace=True)"
   ]
  },
  {
   "cell_type": "markdown",
   "metadata": {},
   "source": [
    "% of readmitted"
   ]
  },
  {
   "cell_type": "code",
   "execution_count": 148,
   "metadata": {},
   "outputs": [
    {
     "data": {
      "text/plain": [
       "Text(0.5, 1.0, 'Distribution of Readmission')"
      ]
     },
     "execution_count": 148,
     "metadata": {},
     "output_type": "execute_result"
    },
    {
     "data": {
      "image/png": "[encoded data removed]",
      "text/plain": [
       "<Figure size 432x288 with 1 Axes>"
      ]
     },
     "metadata": {},
     "output_type": "display_data"
    }
   ],
   "source": [
    "sns.countplot(df['target']).set_title('Distribution of Readmission')"
   ]
  },
  {
   "cell_type": "markdown",
   "metadata": {},
   "source": [
    "## 4.5 Clean new features col name"
   ]
  },
  {
   "cell_type": "code",
   "execution_count": 149,
   "metadata": {},
   "outputs": [],
   "source": [
    "\n",
    "regex = re.compile(r\"\\[|\\]|<\", re.IGNORECASE)\n",
    "df.columns = [regex.sub(\"_\", col) if any(x in str(col) for x in set(('[', ']', '<'))) else col for col in df.columns.values]\n"
   ]
  },
  {
   "cell_type": "markdown",
   "metadata": {},
   "source": [
    "## 4.6 Saving feature engineered data"
   ]
  },
  {
   "cell_type": "code",
   "execution_count": 150,
   "metadata": {},
   "outputs": [],
   "source": [
    "df_dtypes = df.dtypes.to_frame('dtypes')\n",
    "df_dtypes = df_dtypes.astype(str)\n",
    "df.to_parquet(BASE_PATH + 'data/feature-engineered/df_feature-engineered.parquet.gzip', compression='gzip') \n",
    "df_dtypes.to_parquet(BASE_PATH + 'data/feature-engineered/df_feature-engineered_dtypes.parquet.gzip', compression='gzip') "
   ]
  },
  {
   "cell_type": "markdown",
   "metadata": {},
   "source": [
    "# 5. Stage Four - Modelling <a class=\"anchor\" id=\"Modelling\"></a>\n"
   ]
  },
  {
   "cell_type": "markdown",
   "metadata": {},
   "source": [
    "### Loading feature engineered data"
   ]
  },
  {
   "cell_type": "code",
   "execution_count": 151,
   "metadata": {},
   "outputs": [],
   "source": [
    "df=pd.read_parquet(BASE_PATH + 'data/feature-engineered/df_feature-engineered.parquet.gzip')\n",
    "dtypes=pd.read_parquet(BASE_PATH + 'data/feature-engineered/df_feature-engineered_dtypes.parquet.gzip')\n",
    "df = df.astype(dtypes.to_dict()['dtypes'])"
   ]
  },
  {
   "cell_type": "markdown",
   "metadata": {},
   "source": [
    "## 5.1. Build Model <a class=\"anchor\" id=\"BuildModel\"></a>\n"
   ]
  },
  {
   "cell_type": "code",
   "execution_count": 152,
   "metadata": {},
   "outputs": [
    {
     "name": "stdout",
     "output_type": "stream",
     "text": [
      "Naive Predictor: [Roc_auc score: 0.5000, F-score: 0.1357]\n"
     ]
    }
   ],
   "source": [
    "from sklearn.metrics import fbeta_score, roc_auc_score\n",
    "'''\n",
    "TP = np.sum(income) # Counting the ones as this is the naive case. Note that 'income' is the 'income_raw' data \n",
    "encoded to numerical values done in the data preprocessing step.\n",
    "FP = income.count() - TP # Specific to the naive case\n",
    "\n",
    "TN = 0 # No predicted negatives in the naive case\n",
    "FN = 0 # No predicted negatives in the naive case\n",
    "'''\n",
    "# For naive it not worst the money split train test as it is not a model\n",
    "y_naive = len(df)*[1]\n",
    "roc_auc = roc_auc_score(df['target'], y_naive)\n",
    "fscore = fbeta_score(df['target'], y_naive, beta = 0.5)\n",
    "print(\"Naive Predictor: [Roc_auc score: {:.4f}, F-score: {:.4f}]\".format(roc_auc, fscore))"
   ]
  },
  {
   "cell_type": "code",
   "execution_count": 153,
   "metadata": {},
   "outputs": [
    {
     "name": "stdout",
     "output_type": "stream",
     "text": [
      "Training set has 144592 samples.\n",
      "Testing set has 20354 samples.\n"
     ]
    }
   ],
   "source": [
    "# Import train_test_split\n",
    "from sklearn.model_selection import train_test_split\n",
    "from imblearn.over_sampling import SMOTE\n",
    "\n",
    "smt = SMOTE(random_state=20)\n",
    "X=df.loc[:, df.columns != 'target']\n",
    "y=df['target'].to_numpy()\n",
    "\n",
    "\n",
    "# Split the 'features' and 'income' data into training and testing sets\n",
    "X_train, X_test, y_train, y_test = train_test_split(X, y,\n",
    "                                                    test_size = 0.2, \n",
    "                                                    random_state = 0)\n",
    "X_train, y_train = smt.fit_sample(X_train, y_train)\n",
    "X_train = pd.DataFrame(X_train, columns = list(X.columns))\n",
    "\n",
    "# Show the results of the split\n",
    "print(\"Training set has {} samples.\".format(X_train.shape[0]))\n",
    "print(\"Testing set has {} samples.\".format(X_test.shape[0]))"
   ]
  },
  {
   "cell_type": "code",
   "execution_count": 154,
   "metadata": {},
   "outputs": [],
   "source": [
    "from sklearn.metrics import fbeta_score\n",
    "from sklearn.metrics import accuracy_score\n",
    "\n",
    "def train_predict(learner, sample_size, X_train, y_train, X_test, y_test, train_sample = 10000): \n",
    "    '''\n",
    "    inputs:\n",
    "       - learner: the learning algorithm to be trained and predicted on\n",
    "       - sample_size: the size of samples (number) to be drawn from training set\n",
    "       - X_train: features training set\n",
    "       - y_train: income training set\n",
    "       - X_test: features testing set\n",
    "       - y_test: income testing set\n",
    "       \n",
    "           '''\n",
    "    \n",
    "    results = {}\n",
    "    \n",
    "    #Fit the learner to the training data using slicing with 'sample_size' using .fit(training_features[:], training_labels[:])\n",
    "    start = time() # Get start time\n",
    "    learner.fit(X_train[:sample_size], y_train[:sample_size])\n",
    "    end = time() # Get end time\n",
    "    \n",
    "    # Calculate the training time\n",
    "    results['train_time'] = end-start\n",
    "        \n",
    "    # Get the predictions on the test set(X_test),\n",
    "    # then get predictions on the first n training samples(X_train) using .predict()\n",
    "    start = time() # Get start time\n",
    "    predictions_test = learner.predict(X_test)\n",
    "    predictions_train = learner.predict(X_train[:train_sample])\n",
    "    end = time() # Get end time\n",
    "    \n",
    "    # Calculate the total prediction time\n",
    "    results['pred_time'] = end-start\n",
    "            \n",
    "    # Compute roc_auc_score on the first train_sample training samples which is y_train[:train_sample]\n",
    "    results['roc_auc_train'] = roc_auc_score(y_train[:train_sample], predictions_train)\n",
    "        \n",
    "    # Compute roc_auc_score on test set using accuracy_score()\n",
    "    results['roc_auc_test'] = roc_auc_score(y_test, predictions_test)\n",
    "    \n",
    "    # Compute F-score on the the first train_sample training samples using fbeta_score()\n",
    "    results['f_train'] = fbeta_score(y_train[:train_sample], predictions_train, beta = 0.5)\n",
    "        \n",
    "    # Compute F-score on the test set which is y_test\n",
    "    results['f_test'] = fbeta_score(y_test, predictions_test, beta = 0.5)\n",
    "       \n",
    "    # Success\n",
    "    print(\"{} trained on {} samples.\".format(learner.__class__.__name__, sample_size))\n",
    "        \n",
    "    # Return the results\n",
    "    return results"
   ]
  },
  {
   "cell_type": "code",
   "execution_count": 155,
   "metadata": {
    "scrolled": false
   },
   "outputs": [
    {
     "name": "stdout",
     "output_type": "stream",
     "text": [
      "LogisticRegression trained on 1445 samples.\n",
      "LogisticRegression trained on 14459 samples.\n",
      "LogisticRegression trained on 144592 samples.\n",
      "[06:37:05] WARNING: ../src/learner.cc:1061: Starting in XGBoost 1.3.0, the default evaluation metric used with the objective 'binary:logistic' was changed from 'error' to 'logloss'. Explicitly set eval_metric if you'd like to restore the old behavior.\n",
      "XGBClassifier trained on 1445 samples.\n",
      "[06:37:06] WARNING: ../src/learner.cc:1061: Starting in XGBoost 1.3.0, the default evaluation metric used with the objective 'binary:logistic' was changed from 'error' to 'logloss'. Explicitly set eval_metric if you'd like to restore the old behavior.\n",
      "XGBClassifier trained on 14459 samples.\n",
      "[06:37:12] WARNING: ../src/learner.cc:1061: Starting in XGBoost 1.3.0, the default evaluation metric used with the objective 'binary:logistic' was changed from 'error' to 'logloss'. Explicitly set eval_metric if you'd like to restore the old behavior.\n",
      "XGBClassifier trained on 144592 samples.\n",
      "AdaBoostClassifier trained on 1445 samples.\n",
      "AdaBoostClassifier trained on 14459 samples.\n",
      "AdaBoostClassifier trained on 144592 samples.\n"
     ]
    }
   ],
   "source": [
    "from xgboost import XGBClassifier\n",
    "import warnings\n",
    "warnings.filterwarnings('ignore')\n",
    "clf_A = LogisticRegression(random_state=1)\n",
    "clf_B = XGBClassifier(random_state=1)\n",
    "clf_C = AdaBoostClassifier(random_state=1)\n",
    "\n",
    "samples_100 = len(X_train)\n",
    "samples_10 = int(0.1 * samples_100)\n",
    "samples_1 = int(0.01 * samples_100)\n",
    "\n",
    "# Collect results on the learners\n",
    "results = {}\n",
    "for clf in [clf_A, clf_B, clf_C]:\n",
    "    clf_name = clf.__class__.__name__\n",
    "    results[clf_name] = {}\n",
    "    for i, samples in enumerate([samples_1, samples_10, samples_100]):\n",
    "        results[clf_name][i] = \\\n",
    "        train_predict(clf, samples, X_train, y_train, X_test, y_test)\n",
    "\n"
   ]
  },
  {
   "cell_type": "code",
   "execution_count": 156,
   "metadata": {},
   "outputs": [
    {
     "data": {
      "image/png": "[encoded data removed]",
      "text/plain": [
       "<Figure size 864x864 with 6 Axes>"
      ]
     },
     "metadata": {},
     "output_type": "display_data"
    }
   ],
   "source": [
    "# Run metrics visualization for the three supervised learning models chosen\n",
    "vs.evaluate(results, roc_auc, fscore, size = (12, 12))"
   ]
  },
  {
   "cell_type": "markdown",
   "metadata": {},
   "source": []
  },
  {
   "cell_type": "markdown",
   "metadata": {},
   "source": [
    "XGBclassifiers has the best result in term of performance and f-score"
   ]
  },
  {
   "cell_type": "markdown",
   "metadata": {},
   "source": [
    "## 5.2 Model tuning"
   ]
  },
  {
   "cell_type": "code",
   "execution_count": 157,
   "metadata": {},
   "outputs": [],
   "source": [
    "from sklearn.model_selection import GridSearchCV"
   ]
  },
  {
   "cell_type": "code",
   "execution_count": 158,
   "metadata": {},
   "outputs": [],
   "source": [
    "\"\"\"param_grid = {\n",
    "    'n_estimators': [100, 200, 300],\n",
    "    'learning_rate' : [0.001, 0.01, 0.1, 0.2, 0.5]\n",
    "}\"\"\"\n",
    "\n",
    "param_grid = {\n",
    "    'n_estimators': [300],\n",
    "    'learning_rate' : [0.5]\n",
    "}\n",
    "\n",
    "ada_grid = GridSearchCV(AdaBoostClassifier(), param_grid = param_grid)\n",
    "ada_grid.fit(X_train, y_train)\n",
    "y_pred = ada_grid.predict(X_test)"
   ]
  },
  {
   "cell_type": "code",
   "execution_count": 159,
   "metadata": {},
   "outputs": [
    {
     "name": "stdout",
     "output_type": "stream",
     "text": [
      "AdaBoost Predictor: [Roc_auc score: 0.5237, F-score: 0.1778]\n"
     ]
    }
   ],
   "source": [
    "roc_auc = roc_auc_score(y_test, y_pred)\n",
    "fscore = fbeta_score(y_test, y_pred, beta = 0.5)\n",
    "print(\"AdaBoost Predictor: [Roc_auc score: {:.4f}, F-score: {:.4f}]\".format(roc_auc, fscore))"
   ]
  },
  {
   "cell_type": "markdown",
   "metadata": {},
   "source": [
    "## 5.3 Save Model"
   ]
  },
  {
   "cell_type": "code",
   "execution_count": 162,
   "metadata": {},
   "outputs": [
    {
     "data": {
      "text/plain": [
       "['/home/wiflore/Documents/personal_projects/Diabetes-ML-Case/serialized-model/diabetes_model_V2.pkl']"
      ]
     },
     "execution_count": 162,
     "metadata": {},
     "output_type": "execute_result"
    }
   ],
   "source": [
    "import joblib\n",
    "joblib.dump(ada_grid.best_estimator_,BASE_PATH + 'serialized-model/diabetes_model_V' + str(VERSION) + '.pkl')"
   ]
  },
  {
   "cell_type": "markdown",
   "metadata": {},
   "source": [
    "## 5.4 Model Insights"
   ]
  },
  {
   "cell_type": "code",
   "execution_count": 200,
   "metadata": {},
   "outputs": [],
   "source": [
    "model = joblib.load(BASE_PATH + 'serialized-model/diabetes_model_V' + str(VERSION) + '.pkl')\n",
    "df=pd.read_parquet(BASE_PATH + 'data/feature-engineered/df_feature-engineered.parquet.gzip')\n",
    "dtypes=pd.read_parquet(BASE_PATH + 'data/feature-engineered/df_feature-engineered_dtypes.parquet.gzip')\n",
    "df = df.astype(dtypes.to_dict()['dtypes'])"
   ]
  },
  {
   "cell_type": "code",
   "execution_count": 201,
   "metadata": {},
   "outputs": [
    {
     "data": {
      "image/png": "[encoded data removed]",
      "text/plain": [
       "<Figure size 360x216 with 1 Axes>"
      ]
     },
     "metadata": {},
     "output_type": "display_data"
    }
   ],
   "source": [
    "importances = model.feature_importances_\n",
    "helpers.feature_plot(importances, X_train, y_train, n=10)"
   ]
  },
  {
   "cell_type": "markdown",
   "metadata": {},
   "source": [
    "#### Time in hospital vs readmissions"
   ]
  },
  {
   "cell_type": "code",
   "execution_count": 202,
   "metadata": {},
   "outputs": [
    {
     "data": {
      "text/plain": [
       "<AxesSubplot:xlabel='time_in_hospital'>"
      ]
     },
     "execution_count": 202,
     "metadata": {},
     "output_type": "execute_result"
    },
    {
     "data": {
      "image/png": "[encoded data removed]",
      "text/plain": [
       "<Figure size 432x288 with 1 Axes>"
      ]
     },
     "metadata": {},
     "output_type": "display_data"
    }
   ],
   "source": [
    "df.groupby(['time_in_hospital'])['target'].mean().plot.bar()"
   ]
  },
  {
   "cell_type": "markdown",
   "metadata": {},
   "source": [
    "#### Number of diagnoses vs readmissions"
   ]
  },
  {
   "cell_type": "code",
   "execution_count": 207,
   "metadata": {},
   "outputs": [
    {
     "data": {
      "text/plain": [
       "<AxesSubplot:xlabel='number_diagnoses'>"
      ]
     },
     "execution_count": 207,
     "metadata": {},
     "output_type": "execute_result"
    },
    {
     "data": {
      "image/png": "[encoded data removed]",
      "text/plain": [
       "<Figure size 432x288 with 1 Axes>"
      ]
     },
     "metadata": {},
     "output_type": "display_data"
    }
   ],
   "source": [
    "df.groupby(['number_diagnoses'])['target'].mean().plot.bar()"
   ]
  },
  {
   "cell_type": "markdown",
   "metadata": {},
   "source": [
    "#### Diag Circulatory vs readmissions"
   ]
  },
  {
   "cell_type": "code",
   "execution_count": 212,
   "metadata": {},
   "outputs": [
    {
     "data": {
      "text/plain": [
       "<AxesSubplot:xlabel='diag_3_Circulatory'>"
      ]
     },
     "execution_count": 212,
     "metadata": {},
     "output_type": "execute_result"
    },
    {
     "data": {
      "image/png": "[encoded data removed]",
      "text/plain": [
       "<Figure size 432x288 with 1 Axes>"
      ]
     },
     "metadata": {},
     "output_type": "display_data"
    }
   ],
   "source": [
    "df.groupby(['diag_3_Circulatory'])['target'].mean().plot.bar()"
   ]
  },
  {
   "cell_type": "markdown",
   "metadata": {},
   "source": [
    "## 5.5 PCA Insights"
   ]
  },
  {
   "cell_type": "code",
   "execution_count": 203,
   "metadata": {},
   "outputs": [
    {
     "name": "stdout",
     "output_type": "stream",
     "text": [
      "[0.15649184 0.25175267 0.32632954 0.37844189 0.42321627 0.46148891\n",
      " 0.49147351 0.51861753 0.54462747 0.56816017 0.58771468 0.60644115\n",
      " 0.62180806 0.63633968 0.6501888  0.66350837 0.67557142 0.6874551\n",
      " 0.69845889 0.70928307 0.71961764 0.72951059 0.73873687 0.74758307\n",
      " 0.75629289 0.76460804 0.77270836 0.78044143 0.78744917 0.79434345\n",
      " 0.80100024 0.80762094 0.81395313 0.81995989 0.82590681 0.83177362\n",
      " 0.83738497 0.84292127 0.84797201 0.85282522 0.85758896 0.86209915\n",
      " 0.86652986 0.87087408 0.8750616  0.8791883  0.883163   0.88671707\n",
      " 0.88995866 0.89305926 0.89606179 0.89895306 0.9016141  0.90423264\n",
      " 0.90679465 0.90927805 0.91168795 0.91404708 0.9163596  0.91862442\n",
      " 0.92084654 0.92304045 0.925211   0.92734912 0.92944702 0.93148673\n",
      " 0.93345945 0.93542049 0.93728699 0.93914935 0.9409464  0.94267273\n",
      " 0.94432984 0.94582349 0.9472976  0.9487373  0.95015123 0.95152839\n",
      " 0.95288182 0.9542186  0.95551054 0.9567611  0.95799451 0.95921966\n",
      " 0.96041083 0.96153043 0.96264818 0.96370454 0.96473573 0.96574983\n",
      " 0.96674305 0.96770791 0.96865343 0.96958243 0.97048686 0.97136226\n",
      " 0.97221847 0.97305459 0.97388275 0.97470373 0.97551581 0.97630795\n",
      " 0.97707251 0.97782922 0.97855924 0.97925111 0.97993688 0.98061422\n",
      " 0.98128019 0.98194462 0.98260312 0.98323851 0.98385218 0.98445965\n",
      " 0.98505587 0.98564375 0.98621693 0.98678278 0.98734358 0.98790037\n",
      " 0.98844447 0.98898308 0.98949107 0.98996842 0.99043244 0.99088511\n",
      " 0.99132298 0.99174239 0.99214068 0.99251824 0.99288422 0.99324685\n",
      " 0.99360788 0.99396545 0.99431398 0.9946403  0.99496238 0.99528317\n",
      " 0.99559923 0.99590958 0.99620186 0.99647931 0.99674939 0.99701046\n",
      " 0.99726196 0.99748761 0.99768622 0.99787399 0.99806038 0.99824542\n",
      " 0.99838785 0.9985153  0.99862933 0.99874255 0.99882743 0.9989118\n",
      " 0.99899596 0.99907891 0.99915814 0.99923187 0.99930311 0.99937163\n",
      " 0.9994358  0.99949186 0.99954457 0.99959466 0.99963478 0.99967265\n",
      " 0.99970578 0.99973844 0.99976674 0.99979454 0.99981945 0.99984225\n",
      " 0.99986131 0.99987419 0.99988644 0.9998975  0.99990651 0.99991421\n",
      " 0.99992152 0.99992856 0.99993529 0.99994164 0.99994734 0.99995296\n",
      " 0.99995743 0.99996166 0.99996581 0.99996956 0.99997289 0.99997598\n",
      " 0.99997896 0.99998152 0.99998375 0.99998574 0.99998764 0.99998918\n",
      " 0.99999042 0.99999162 0.99999264 0.99999364 0.99999463 0.99999562\n",
      " 0.99999661 0.99999756 0.9999983  0.99999895 0.99999948 1.\n",
      " 1.         1.         1.         1.         1.         1.\n",
      " 1.         1.         1.         1.         1.         1.\n",
      " 1.         1.         1.         1.         1.         1.\n",
      " 1.         1.         1.         1.         1.         1.\n",
      " 1.         1.         1.         1.         1.         1.\n",
      " 1.         1.         1.         1.         1.        ]\n"
     ]
    },
    {
     "data": {
      "image/png": "[encoded data removed]",
      "text/plain": [
       "<Figure size 720x432 with 1 Axes>"
      ]
     },
     "metadata": {},
     "output_type": "display_data"
    }
   ],
   "source": [
    "from sklearn.decomposition import PCA\n",
    "threshold = 3\n",
    "pca = PCA()\n",
    "pca.fit(df)\n",
    "pca_data = pca.transform(df)\n",
    "\n",
    "\n",
    "helpers.scree_plot(pca)"
   ]
  },
  {
   "cell_type": "code",
   "execution_count": 258,
   "metadata": {},
   "outputs": [
    {
     "data": {
      "text/plain": [
       "<Figure size 432x288 with 0 Axes>"
      ]
     },
     "metadata": {},
     "output_type": "display_data"
    },
    {
     "data": {
      "image/png": "[encoded data removed]",
      "text/plain": [
       "<Figure size 720x504 with 4 Axes>"
      ]
     },
     "metadata": {},
     "output_type": "display_data"
    }
   ],
   "source": [
    "rows = 2\n",
    "cols = 2\n",
    "n = 5\n",
    "pca_comp = helpers.get_components(pca.components_, df.columns, 5)\n",
    "sns.set(style=\"white\")\n",
    "sns.set_color_codes(\"pastel\")\n",
    "sns.despine()\n",
    "plt.figure(figsize=(10, 7));\n",
    "plt.subplot(rows, cols, 1)\n",
    "df_pca = pd.DataFrame(\n",
    "    pca_comp[\"PCA 1\"].sort_values(ascending=False).head(n))\n",
    "plt.subplot(rows, cols, 1)\n",
    "column = df_pca.columns\n",
    "plt.title(\"Group 1 High Readmission associate attribute\")\n",
    "sns.barplot(data=df_pca, x=df_pca.index.values, y=\"PCA 1\", color='b')\n",
    "sns.despine()\n",
    "plt.xticks(rotation=90)\n",
    "\n",
    "df_pca = pd.DataFrame(pca_comp[\"PCA 1\"].sort_values(ascending=True).head(n))\n",
    "plt.subplot(rows, cols, 2)\n",
    "column = df_pca.columns\n",
    "plt.title(\"Group 2 Low Readmission associate attribute\")\n",
    "sns.barplot(data=df_pca, x=df_pca.index.values, y=\"PCA 1\", color='b')\n",
    "sns.despine()\n",
    "plt.xticks(rotation=90)\n",
    "\n",
    "df_pca = pd.DataFrame(\n",
    "    pca_comp[\"PCA 2\"].sort_values(ascending=False).head(n))\n",
    "plt.subplot(rows, cols, 3)\n",
    "column = df_pca.columns\n",
    "plt.title(\"Group 3 High Readmission associate attribute\")\n",
    "sns.barplot(data=df_pca, x=df_pca.index.values, y=\"PCA 2\", color='b')\n",
    "sns.despine()\n",
    "plt.xticks(rotation=90)\n",
    "\n",
    "df_pca = pd.DataFrame(pca_comp[\"PCA 2\"].sort_values(ascending=True).head(n))\n",
    "plt.subplot(rows, cols, 4)\n",
    "column = df_pca.columns\n",
    "plt.title(\"Group 4 Low Readmission associate attribute\")\n",
    "sns.barplot(data=df_pca, x=df_pca.index.values, y=\"PCA 2\", color='b')\n",
    "sns.despine()\n",
    "plt.xticks(rotation=90)\n",
    "\n",
    "plt.subplots_adjust(hspace=2)\n",
    "plt.subplots_adjust(wspace=1)\n",
    "plt.show();"
   ]
  },
  {
   "cell_type": "markdown",
   "metadata": {},
   "source": [
    "## 6. Evaluation \n",
    "tbd"
   ]
  },
  {
   "cell_type": "markdown",
   "metadata": {},
   "source": [
    "## 7. Deployment\n",
    "tbd"
   ]
  }
 ],
 "metadata": {
  "kernelspec": {
   "display_name": "Python 3",
   "language": "python",
   "name": "python3"
  },
  "language_info": {
   "codemirror_mode": {
    "name": "ipython",
    "version": 3
   },
   "file_extension": ".py",
   "mimetype": "text/x-python",
   "name": "python",
   "nbconvert_exporter": "python",
   "pygments_lexer": "ipython3",
   "version": "3.7.9"
  }
 },
 "nbformat": 4,
 "nbformat_minor": 2
}
